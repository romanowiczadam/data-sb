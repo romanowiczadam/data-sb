{
  "nbformat": 4,
  "nbformat_minor": 0,
  "metadata": {
    "colab": {
      "name": "05_Regresja_wielomianowa.ipynb",
      "provenance": [],
      "collapsed_sections": [],
      "authorship_tag": "ABX9TyO1tz7zrnzBPQ3CrVWdtrMc",
      "include_colab_link": true
    },
    "kernelspec": {
      "name": "python3",
      "display_name": "Python 3"
    }
  },
  "cells": [
    {
      "cell_type": "markdown",
      "metadata": {
        "id": "view-in-github",
        "colab_type": "text"
      },
      "source": [
        "<a href=\"https://colab.research.google.com/github/romanowiczadam/data-sb/blob/master/kurs_datascience/04_podstawy_sklearn/05_Regresja_wielomianowa.ipynb\" target=\"_parent\"><img src=\"https://colab.research.google.com/assets/colab-badge.svg\" alt=\"Open In Colab\"/></a>"
      ]
    },
    {
      "cell_type": "code",
      "metadata": {
        "id": "WLPFCc_LoEmQ",
        "colab_type": "code",
        "colab": {}
      },
      "source": [
        "import sklearn"
      ],
      "execution_count": 0,
      "outputs": []
    },
    {
      "cell_type": "markdown",
      "metadata": {
        "id": "foaSvuvrohpU",
        "colab_type": "text"
      },
      "source": [
        "\n",
        "Polynomial Regression - Regresja Wielomianowa¶\n",
        "Powszechnym wzorcem stosowanym w uczeniu maszynowym jest użycie modeli liniowych wytrenowanych na nieliniowych funkcjach danych. Podejscie to utrzymuje szybkie działanie metod liniowych i zarazem umożliwia stosowanie metod liniowych dla znacznie szerszego zakresu danych.\n",
        "\n",
        "Przykładowo, prosta regresja liniowa może zostać zastosowana przez skonstruowanie cech wielomianowych do modelów nieliniowych.\n",
        "\n",
        "Rozważmy model regresji liniowej:$$\\hat{y}(w, x) = w_0 + w_1 x_1 + w_2 x_2$$Dodając cechy wileomianowe otrzymujemy:$$\\hat{y}(w, x) = w_0 + w_1 x_1 + w_2 x_2 + w_3 x_1 x_2 + w_4 x_1^2 + w_5 x_2^2$$Wyobraźmy sobie teraz nastepujące podstawienie:$$z = [1, x_1, x_2, x_1 x_2, x_1^2, x_2^2]$$Wrzucając to z powrotem do naszego modelu dotrzymujemy prosty model liniowy:$$\\hat{y}(w, z) = w_0 + w_1 z_1 + w_2 z_2 + w_3 z_3 + w_4 z_4 + w_5 z_5$$\n",
        "\n",
        "To implikuje fakt, iż nasz model regresji wielomianowej znajduje się w klasie modeli liniowych i może być rozwiązany za pomocą tych samych technik."
      ]
    },
    {
      "cell_type": "code",
      "metadata": {
        "id": "yp_l82-ook4W",
        "colab_type": "code",
        "colab": {
          "base_uri": "https://localhost:8080/",
          "height": 483
        },
        "outputId": "cc09ebeb-74d3-4b3c-fb2b-1c3e98ceef7f"
      },
      "source": [
        "import numpy as np\n",
        "import matplotlib.pyplot as plt\n",
        "import seaborn as sns\n",
        "sns.set()\n",
        "\n",
        "X = np.arange (-10, 10, 0.5)\n",
        "noise = 80 * np.random.randn(40) \n",
        "y = -X**3 + 10*X**2 + 2*X + 3 + noise\n",
        "print(noise)\n",
        "print(X)\n",
        "X = X.reshape(40, 1)\n",
        "_ = plt.scatter(X, y)"
      ],
      "execution_count": 12,
      "outputs": [
        {
          "output_type": "stream",
          "text": [
            "[ -59.49384528   43.64063722  -92.38219605   96.0934639   -15.95972902\n",
            " -108.69647296   -0.41180226   38.93442884   76.13629581  -94.85435159\n",
            "   23.51009794  -51.51401757  -40.63242695   63.72297538  -31.88420544\n",
            "  143.57844631  102.67701563   11.11123508   28.96570475  -61.11972483\n",
            "  -53.0050068   -77.31351687   58.3244737     7.16785478  -46.7556932\n",
            "   35.52712213   38.09312381   93.63893269   17.19074378   91.88423724\n",
            "  -29.80516353  -15.95528924  -82.75344721   31.65417044   10.12120915\n",
            "   79.469764   -108.54741738  119.42155887   15.76428469 -145.33745376]\n",
            "[-10.   -9.5  -9.   -8.5  -8.   -7.5  -7.   -6.5  -6.   -5.5  -5.   -4.5\n",
            "  -4.   -3.5  -3.   -2.5  -2.   -1.5  -1.   -0.5   0.    0.5   1.    1.5\n",
            "   2.    2.5   3.    3.5   4.    4.5   5.    5.5   6.    6.5   7.    7.5\n",
            "   8.    8.5   9.    9.5]\n"
          ],
          "name": "stdout"
        },
        {
          "output_type": "display_data",
          "data": {
            "image/png": "[encoded data removed]",
            "text/plain": [
              "<Figure size 432x288 with 1 Axes>"
            ]
          },
          "metadata": {
            "tags": []
          }
        }
      ]
    },
    {
      "cell_type": "code",
      "metadata": {
        "id": "U5Iv057Irmw7",
        "colab_type": "code",
        "colab": {
          "base_uri": "https://localhost:8080/",
          "height": 268
        },
        "outputId": "d4b73525-de64-44cb-9aac-f660060b82f7"
      },
      "source": [
        "# dostosujmy model liniowy, żeby sprawdzić jaki byłby jego błąd\n",
        "\n",
        "from sklearn.linear_model import LinearRegression\n",
        "regressor = LinearRegression()\n",
        "regressor.fit(X, y)\n",
        "y_pred = regressor.predict(X)\n",
        "\n",
        "plt.scatter(X, y)\n",
        "_ = plt.plot(X, y_pred, c = 'red')"
      ],
      "execution_count": 21,
      "outputs": [
        {
          "output_type": "display_data",
          "data": {
            "image/png": "[encoded data removed]",
            "text/plain": [
              "<Figure size 432x288 with 1 Axes>"
            ]
          },
          "metadata": {
            "tags": []
          }
        }
      ]
    },
    {
      "cell_type": "code",
      "metadata": {
        "id": "67Vm0jz1wKRQ",
        "colab_type": "code",
        "colab": {
          "base_uri": "https://localhost:8080/",
          "height": 34
        },
        "outputId": "ae0371c2-8aeb-4c79-af1a-1c9bb0c0c234"
      },
      "source": [
        "from sklearn.metrics import r2_score\n",
        "\n",
        "r2_score(y, y_pred)"
      ],
      "execution_count": 23,
      "outputs": [
        {
          "output_type": "execute_result",
          "data": {
            "text/plain": [
              "0.515285027577226"
            ]
          },
          "metadata": {
            "tags": []
          },
          "execution_count": 23
        }
      ]
    },
    {
      "cell_type": "markdown",
      "metadata": {
        "id": "9On6PgfUyzwz",
        "colab_type": "text"
      },
      "source": [
        "Model jest niedouczony (underfitting). Potrzebujemy zwiekszyć złozoność modelu do naszego problemu.\n",
        "\n",
        "Rozważmy model regresji liniowej:$$\\hat{y}(w, x) = w_0 + w_1 x_1$$Dodając cechy wielomianowe otrzymujemy:$$\\hat{y}(w, x) = w_0 + w_1 x_1 +w_2x_1^2 $$Wyobraźmy sobie teraz nastepujące podstawienie:$$z = [1, x_1, x_1^2]$$Wrzucając to z powrotem do naszego modelu otrzymujemy prosty model liniowy:$$\\hat{y}(w, z) = w_0 + w_1 z_1 + w_2 z_2$$"
      ]
    },
    {
      "cell_type": "code",
      "metadata": {
        "id": "gJ88Jx1nzHjU",
        "colab_type": "code",
        "colab": {
          "base_uri": "https://localhost:8080/",
          "height": 727
        },
        "outputId": "3e5bc75e-9a50-442e-9f62-d521040f58a4"
      },
      "source": [
        "# Ekstrakcja cech wielmianowych stopień 2\n",
        "from sklearn.preprocessing import PolynomialFeatures\n",
        "\n",
        "poly = PolynomialFeatures(degree=2)\n",
        "X_poly = poly.fit_transform(X)\n",
        "X_poly"
      ],
      "execution_count": 33,
      "outputs": [
        {
          "output_type": "execute_result",
          "data": {
            "text/plain": [
              "array([[  1.  , -10.  , 100.  ],\n",
              "       [  1.  ,  -9.5 ,  90.25],\n",
              "       [  1.  ,  -9.  ,  81.  ],\n",
              "       [  1.  ,  -8.5 ,  72.25],\n",
              "       [  1.  ,  -8.  ,  64.  ],\n",
              "       [  1.  ,  -7.5 ,  56.25],\n",
              "       [  1.  ,  -7.  ,  49.  ],\n",
              "       [  1.  ,  -6.5 ,  42.25],\n",
              "       [  1.  ,  -6.  ,  36.  ],\n",
              "       [  1.  ,  -5.5 ,  30.25],\n",
              "       [  1.  ,  -5.  ,  25.  ],\n",
              "       [  1.  ,  -4.5 ,  20.25],\n",
              "       [  1.  ,  -4.  ,  16.  ],\n",
              "       [  1.  ,  -3.5 ,  12.25],\n",
              "       [  1.  ,  -3.  ,   9.  ],\n",
              "       [  1.  ,  -2.5 ,   6.25],\n",
              "       [  1.  ,  -2.  ,   4.  ],\n",
              "       [  1.  ,  -1.5 ,   2.25],\n",
              "       [  1.  ,  -1.  ,   1.  ],\n",
              "       [  1.  ,  -0.5 ,   0.25],\n",
              "       [  1.  ,   0.  ,   0.  ],\n",
              "       [  1.  ,   0.5 ,   0.25],\n",
              "       [  1.  ,   1.  ,   1.  ],\n",
              "       [  1.  ,   1.5 ,   2.25],\n",
              "       [  1.  ,   2.  ,   4.  ],\n",
              "       [  1.  ,   2.5 ,   6.25],\n",
              "       [  1.  ,   3.  ,   9.  ],\n",
              "       [  1.  ,   3.5 ,  12.25],\n",
              "       [  1.  ,   4.  ,  16.  ],\n",
              "       [  1.  ,   4.5 ,  20.25],\n",
              "       [  1.  ,   5.  ,  25.  ],\n",
              "       [  1.  ,   5.5 ,  30.25],\n",
              "       [  1.  ,   6.  ,  36.  ],\n",
              "       [  1.  ,   6.5 ,  42.25],\n",
              "       [  1.  ,   7.  ,  49.  ],\n",
              "       [  1.  ,   7.5 ,  56.25],\n",
              "       [  1.  ,   8.  ,  64.  ],\n",
              "       [  1.  ,   8.5 ,  72.25],\n",
              "       [  1.  ,   9.  ,  81.  ],\n",
              "       [  1.  ,   9.5 ,  90.25]])"
            ]
          },
          "metadata": {
            "tags": []
          },
          "execution_count": 33
        }
      ]
    },
    {
      "cell_type": "code",
      "metadata": {
        "id": "cEyjiTJNz2S9",
        "colab_type": "code",
        "colab": {
          "base_uri": "https://localhost:8080/",
          "height": 270
        },
        "outputId": "fa210e21-033d-4154-cbc5-088bf6b1a2c9"
      },
      "source": [
        "# Dopasowanie modelu\n",
        "regressor_poly = LinearRegression()\n",
        "regressor_poly.fit(X_poly, y)\n",
        "\n",
        "y_pred = regressor_poly.predict(X_poly)\n",
        "\n",
        "plt.scatter(X, y)\n",
        "_ = plt.plot(X, y_pred, c='r')"
      ],
      "execution_count": 34,
      "outputs": [
        {
          "output_type": "display_data",
          "data": {
            "image/png": "[encoded data removed]",
            "text/plain": [
              "<Figure size 432x288 with 1 Axes>"
            ]
          },
          "metadata": {
            "tags": []
          }
        }
      ]
    },
    {
      "cell_type": "code",
      "metadata": {
        "id": "3z2TcRBc1Blh",
        "colab_type": "code",
        "colab": {
          "base_uri": "https://localhost:8080/",
          "height": 34
        },
        "outputId": "383dca5a-a605-4fd1-e1d9-4a4ba213bb7e"
      },
      "source": [
        "r2_score(y, y_pred)"
      ],
      "execution_count": 35,
      "outputs": [
        {
          "output_type": "execute_result",
          "data": {
            "text/plain": [
              "0.8868083563617074"
            ]
          },
          "metadata": {
            "tags": []
          },
          "execution_count": 35
        }
      ]
    },
    {
      "cell_type": "code",
      "metadata": {
        "id": "uDsAUH4X1SYU",
        "colab_type": "code",
        "colab": {
          "base_uri": "https://localhost:8080/",
          "height": 727
        },
        "outputId": "d52a7f3f-db44-493a-be38-5d3ca01ed7de"
      },
      "source": [
        "# Ekstrakcja cech wielmianowych stopień 3\n",
        "np.set_printoptions(suppress = True)\n",
        "\n",
        "poly_3 = PolynomialFeatures(degree=3)\n",
        "X_poly_3 = poly_3.fit_transform(X)\n",
        "X_poly_3"
      ],
      "execution_count": 38,
      "outputs": [
        {
          "output_type": "execute_result",
          "data": {
            "text/plain": [
              "array([[    1.   ,   -10.   ,   100.   , -1000.   ],\n",
              "       [    1.   ,    -9.5  ,    90.25 ,  -857.375],\n",
              "       [    1.   ,    -9.   ,    81.   ,  -729.   ],\n",
              "       [    1.   ,    -8.5  ,    72.25 ,  -614.125],\n",
              "       [    1.   ,    -8.   ,    64.   ,  -512.   ],\n",
              "       [    1.   ,    -7.5  ,    56.25 ,  -421.875],\n",
              "       [    1.   ,    -7.   ,    49.   ,  -343.   ],\n",
              "       [    1.   ,    -6.5  ,    42.25 ,  -274.625],\n",
              "       [    1.   ,    -6.   ,    36.   ,  -216.   ],\n",
              "       [    1.   ,    -5.5  ,    30.25 ,  -166.375],\n",
              "       [    1.   ,    -5.   ,    25.   ,  -125.   ],\n",
              "       [    1.   ,    -4.5  ,    20.25 ,   -91.125],\n",
              "       [    1.   ,    -4.   ,    16.   ,   -64.   ],\n",
              "       [    1.   ,    -3.5  ,    12.25 ,   -42.875],\n",
              "       [    1.   ,    -3.   ,     9.   ,   -27.   ],\n",
              "       [    1.   ,    -2.5  ,     6.25 ,   -15.625],\n",
              "       [    1.   ,    -2.   ,     4.   ,    -8.   ],\n",
              "       [    1.   ,    -1.5  ,     2.25 ,    -3.375],\n",
              "       [    1.   ,    -1.   ,     1.   ,    -1.   ],\n",
              "       [    1.   ,    -0.5  ,     0.25 ,    -0.125],\n",
              "       [    1.   ,     0.   ,     0.   ,     0.   ],\n",
              "       [    1.   ,     0.5  ,     0.25 ,     0.125],\n",
              "       [    1.   ,     1.   ,     1.   ,     1.   ],\n",
              "       [    1.   ,     1.5  ,     2.25 ,     3.375],\n",
              "       [    1.   ,     2.   ,     4.   ,     8.   ],\n",
              "       [    1.   ,     2.5  ,     6.25 ,    15.625],\n",
              "       [    1.   ,     3.   ,     9.   ,    27.   ],\n",
              "       [    1.   ,     3.5  ,    12.25 ,    42.875],\n",
              "       [    1.   ,     4.   ,    16.   ,    64.   ],\n",
              "       [    1.   ,     4.5  ,    20.25 ,    91.125],\n",
              "       [    1.   ,     5.   ,    25.   ,   125.   ],\n",
              "       [    1.   ,     5.5  ,    30.25 ,   166.375],\n",
              "       [    1.   ,     6.   ,    36.   ,   216.   ],\n",
              "       [    1.   ,     6.5  ,    42.25 ,   274.625],\n",
              "       [    1.   ,     7.   ,    49.   ,   343.   ],\n",
              "       [    1.   ,     7.5  ,    56.25 ,   421.875],\n",
              "       [    1.   ,     8.   ,    64.   ,   512.   ],\n",
              "       [    1.   ,     8.5  ,    72.25 ,   614.125],\n",
              "       [    1.   ,     9.   ,    81.   ,   729.   ],\n",
              "       [    1.   ,     9.5  ,    90.25 ,   857.375]])"
            ]
          },
          "metadata": {
            "tags": []
          },
          "execution_count": 38
        }
      ]
    },
    {
      "cell_type": "code",
      "metadata": {
        "id": "62QwRV5D1qmy",
        "colab_type": "code",
        "colab": {
          "base_uri": "https://localhost:8080/",
          "height": 267
        },
        "outputId": "43cbb0bc-61b1-4471-f172-00d623c6bf05"
      },
      "source": [
        "# Dopasowanie modelu\n",
        "regressor_poly_3 = LinearRegression()\n",
        "regressor_poly_3.fit(X_poly_3, y)\n",
        "\n",
        "y_pred_3 = regressor_poly_3.predict(X_poly_3)\n",
        "\n",
        "plt.scatter(X, y)\n",
        "_ = plt.plot(X, y_pred_3, c='r')"
      ],
      "execution_count": 43,
      "outputs": [
        {
          "output_type": "display_data",
          "data": {
            "image/png": "[encoded data removed]",
            "text/plain": [
              "<Figure size 432x288 with 1 Axes>"
            ]
          },
          "metadata": {
            "tags": []
          }
        }
      ]
    },
    {
      "cell_type": "code",
      "metadata": {
        "id": "bdQi2E6z2dTU",
        "colab_type": "code",
        "colab": {
          "base_uri": "https://localhost:8080/",
          "height": 34
        },
        "outputId": "5f715b37-09a5-4b67-e36d-687be83fbb3d"
      },
      "source": [
        "r2_score(y, y_pred_3)"
      ],
      "execution_count": 44,
      "outputs": [
        {
          "output_type": "execute_result",
          "data": {
            "text/plain": [
              "0.9816060309695029"
            ]
          },
          "metadata": {
            "tags": []
          },
          "execution_count": 44
        }
      ]
    }
  ]
}