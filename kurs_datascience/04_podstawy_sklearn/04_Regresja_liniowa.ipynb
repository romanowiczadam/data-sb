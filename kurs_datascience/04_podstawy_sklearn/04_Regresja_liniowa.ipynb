{
  "nbformat": 4,
  "nbformat_minor": 0,
  "metadata": {
    "colab": {
      "name": "04_Regresja_liniowa.ipynb",
      "provenance": [],
      "collapsed_sections": [],
      "authorship_tag": "ABX9TyNi+DP0VeAHKegEE6E//e0Q",
      "include_colab_link": true
    },
    "kernelspec": {
      "name": "python3",
      "display_name": "Python 3"
    }
  },
  "cells": [
    {
      "cell_type": "markdown",
      "metadata": {
        "id": "view-in-github",
        "colab_type": "text"
      },
      "source": [
        "<a href=\"https://colab.research.google.com/github/romanowiczadam/data-sb/blob/master/kurs_datascience/04_podstawy_sklearn/04_Regresja_liniowa.ipynb\" target=\"_parent\"><img src=\"https://colab.research.google.com/assets/colab-badge.svg\" alt=\"Open In Colab\"/></a>"
      ]
    },
    {
      "cell_type": "code",
      "metadata": {
        "id": "rwT6VaEfCHIx",
        "colab_type": "code",
        "colab": {}
      },
      "source": [
        ""
      ],
      "execution_count": 0,
      "outputs": []
    },
    {
      "cell_type": "markdown",
      "metadata": {
        "id": "XfoyYBRcCNDW",
        "colab_type": "text"
      },
      "source": [
        "# 4.1.Wprowadzenie"
      ]
    },
    {
      "cell_type": "code",
      "metadata": {
        "id": "jaL73FDDCUWN",
        "colab_type": "code",
        "outputId": "b4d1b323-cace-47fa-a242-735ad963d32e",
        "colab": {
          "base_uri": "https://localhost:8080/",
          "height": 34
        }
      },
      "source": [
        "import sklearn\n",
        "sklearn.__version__"
      ],
      "execution_count": 0,
      "outputs": [
        {
          "output_type": "execute_result",
          "data": {
            "text/plain": [
              "'0.22.2.post1'"
            ]
          },
          "metadata": {
            "tags": []
          },
          "execution_count": 1
        }
      ]
    },
    {
      "cell_type": "markdown",
      "metadata": {
        "id": "IzmFPU5vH8mG",
        "colab_type": "text"
      },
      "source": [
        "\n",
        "Regresja Liniowa - wprowadzenie¶\n",
        "Zdefiniujmy:\n",
        "\n",
        "$X_1, X_2, ..., X_n$ - zmienne niezależne (nasze dane do modelu)\n",
        "$Y$ - zmienna docelowa\n",
        "$y_{true}$ - wartość rzeczywista\n",
        "$y_{pred}$ - wartość przewidziana przez model\n",
        "$w_0, w_1,...,w_n$ - wagi do modelu (podlegaja uczeniu)\n",
        "W tym modelu zakłada się. ze wartość przewidywana $y_{pred}$ może być liniową kombinacją zmiennych niezależnych. Ogólna postac modelu:\n",
        "\n",
        "$$y_{pred}(W, X) = w_0 + w_1X_1 + ... + w_nX_n$$$$Y = XW$$\n",
        "\n",
        "gdzie:\n",
        "\n",
        "$X = \\begin{pmatrix} 1  X_1  X_2  \\dots X_n\\end{pmatrix}$, $W = \\begin{pmatrix} w_{0} \\\\  w_{1}  \\\\ \\dots \\\\ w_{n}\\end{pmatrix}$\n",
        "\n",
        "Wprowadźmy oznaczenia:\n",
        "\n",
        "$w = (w_1,...w_n)$ jako coef_\n",
        "$w_0$ jako intercept_\n",
        "Regresja Liniowa polega na takim dopasowaniu wag $w_0, w_1,...,w_n$ by zminimalizować funkcję kosztu(cost function):\n",
        "\n",
        "$$||XW-Y||_{2}^{2} \\rightarrow min$$\n",
        "Przykład w $R^2$:\n",
        "$Y=w_0 + w_1X_1$\n",
        "\n",
        "Przykład w $R^3$:\n",
        "$Y=w_0 + w_1X_1 + w_2X_2$\n",
        "\n",
        "Podstawowe założenia regresji liniowej\n",
        "-mamy zależność liniową\n",
        "-wariancja reszt jest taka sama dla wszystkich obserwacji\n",
        "-brak współliniowości (żaden z predyktorów nie stanowi kombinacji liniowej innych predyktorów)"
      ]
    },
    {
      "cell_type": "code",
      "metadata": {
        "id": "H7B_ha3kKBGP",
        "colab_type": "code",
        "outputId": "ee0caf31-927b-490d-a136-4794de586346",
        "colab": {
          "base_uri": "https://localhost:8080/",
          "height": 1000
        }
      },
      "source": [
        "import numpy as np\n",
        "\n",
        "X = np.arange(0, 50, 0.5)\n",
        "print(X)\n",
        "print(X.shape)\n",
        "noise = 10 * np.random.randn(100)\n",
        "y = 2 * X + 100 + noise\n",
        "X = X.reshape(-1, 1)\n",
        "print(X)\n",
        "print('-----------------')\n",
        "print(y)"
      ],
      "execution_count": 0,
      "outputs": [
        {
          "output_type": "stream",
          "text": [
            "[ 0.   0.5  1.   1.5  2.   2.5  3.   3.5  4.   4.5  5.   5.5  6.   6.5\n",
            "  7.   7.5  8.   8.5  9.   9.5 10.  10.5 11.  11.5 12.  12.5 13.  13.5\n",
            " 14.  14.5 15.  15.5 16.  16.5 17.  17.5 18.  18.5 19.  19.5 20.  20.5\n",
            " 21.  21.5 22.  22.5 23.  23.5 24.  24.5 25.  25.5 26.  26.5 27.  27.5\n",
            " 28.  28.5 29.  29.5 30.  30.5 31.  31.5 32.  32.5 33.  33.5 34.  34.5\n",
            " 35.  35.5 36.  36.5 37.  37.5 38.  38.5 39.  39.5 40.  40.5 41.  41.5\n",
            " 42.  42.5 43.  43.5 44.  44.5 45.  45.5 46.  46.5 47.  47.5 48.  48.5\n",
            " 49.  49.5]\n",
            "(100,)\n",
            "[[ 0. ]\n",
            " [ 0.5]\n",
            " [ 1. ]\n",
            " [ 1.5]\n",
            " [ 2. ]\n",
            " [ 2.5]\n",
            " [ 3. ]\n",
            " [ 3.5]\n",
            " [ 4. ]\n",
            " [ 4.5]\n",
            " [ 5. ]\n",
            " [ 5.5]\n",
            " [ 6. ]\n",
            " [ 6.5]\n",
            " [ 7. ]\n",
            " [ 7.5]\n",
            " [ 8. ]\n",
            " [ 8.5]\n",
            " [ 9. ]\n",
            " [ 9.5]\n",
            " [10. ]\n",
            " [10.5]\n",
            " [11. ]\n",
            " [11.5]\n",
            " [12. ]\n",
            " [12.5]\n",
            " [13. ]\n",
            " [13.5]\n",
            " [14. ]\n",
            " [14.5]\n",
            " [15. ]\n",
            " [15.5]\n",
            " [16. ]\n",
            " [16.5]\n",
            " [17. ]\n",
            " [17.5]\n",
            " [18. ]\n",
            " [18.5]\n",
            " [19. ]\n",
            " [19.5]\n",
            " [20. ]\n",
            " [20.5]\n",
            " [21. ]\n",
            " [21.5]\n",
            " [22. ]\n",
            " [22.5]\n",
            " [23. ]\n",
            " [23.5]\n",
            " [24. ]\n",
            " [24.5]\n",
            " [25. ]\n",
            " [25.5]\n",
            " [26. ]\n",
            " [26.5]\n",
            " [27. ]\n",
            " [27.5]\n",
            " [28. ]\n",
            " [28.5]\n",
            " [29. ]\n",
            " [29.5]\n",
            " [30. ]\n",
            " [30.5]\n",
            " [31. ]\n",
            " [31.5]\n",
            " [32. ]\n",
            " [32.5]\n",
            " [33. ]\n",
            " [33.5]\n",
            " [34. ]\n",
            " [34.5]\n",
            " [35. ]\n",
            " [35.5]\n",
            " [36. ]\n",
            " [36.5]\n",
            " [37. ]\n",
            " [37.5]\n",
            " [38. ]\n",
            " [38.5]\n",
            " [39. ]\n",
            " [39.5]\n",
            " [40. ]\n",
            " [40.5]\n",
            " [41. ]\n",
            " [41.5]\n",
            " [42. ]\n",
            " [42.5]\n",
            " [43. ]\n",
            " [43.5]\n",
            " [44. ]\n",
            " [44.5]\n",
            " [45. ]\n",
            " [45.5]\n",
            " [46. ]\n",
            " [46.5]\n",
            " [47. ]\n",
            " [47.5]\n",
            " [48. ]\n",
            " [48.5]\n",
            " [49. ]\n",
            " [49.5]]\n",
            "-----------------\n",
            "[ 80.01628036  99.47108916  89.64881994  93.01909177 122.13992899\n",
            "  99.23512904 117.48879009  99.35114914 109.83120962 109.04038004\n",
            " 100.2458557  122.15790042 117.00202699 104.1131412  100.69460811\n",
            " 120.68380262 119.75384862 132.56572126 124.51378742 129.30853876\n",
            " 110.52562223 122.05176647 116.54188103 123.84149707 119.50808685\n",
            " 137.83573167 112.23759323 124.37299095 109.44983307 136.91924465\n",
            " 133.87301199 135.8112739  126.61893707 129.63859348 135.88505897\n",
            " 134.70578986 128.0709754  131.81361181 147.12118516 141.4932379\n",
            " 127.23285331 154.09290521 138.46120664 140.28315752 140.31725529\n",
            " 146.39671666 158.80712005 147.64831827 146.82184229 139.88863201\n",
            " 141.9637947  144.09129179 156.38112272 145.33798248 147.53625798\n",
            " 152.67659021 158.74415998 165.37609519 139.81850718 140.56377384\n",
            " 164.90503655 151.05094096 153.76750005 167.75984226 197.15251643\n",
            " 164.06298075 171.80663387 163.53931504 173.84567959 178.00967824\n",
            " 184.96957268 163.21403906 175.9982575  165.30978011 182.21474584\n",
            " 185.82381282 204.06734378 181.14414239 182.67698491 192.09220832\n",
            " 187.41428682 176.09535129 193.67845927 194.20898496 188.33035545\n",
            " 201.36093429 181.819943   192.44602288 183.28970617 182.54000574\n",
            " 194.80854218 187.03725428 177.63039531 184.95409909 204.48168783\n",
            " 194.75460933 187.43630491 207.53874011 180.17684184 198.28800071]\n"
          ],
          "name": "stdout"
        }
      ]
    },
    {
      "cell_type": "code",
      "metadata": {
        "id": "31QOuukBKOMo",
        "colab_type": "code",
        "colab": {}
      },
      "source": [
        "from sklearn.model_selection import train_test_split\n",
        "\n",
        "X_train, X_test, y_train, y_test = train_test_split(X, y, test_size = 0.25)"
      ],
      "execution_count": 0,
      "outputs": []
    },
    {
      "cell_type": "code",
      "metadata": {
        "id": "sF-QvFpsNHfc",
        "colab_type": "code",
        "outputId": "88d5fef5-52bf-46ab-8531-3bbecb89de9a",
        "colab": {
          "base_uri": "https://localhost:8080/",
          "height": 87
        }
      },
      "source": [
        "print(X_train.shape)\n",
        "print(X_test.shape)\n",
        "print(y_train.shape)\n",
        "print(y_test.shape)"
      ],
      "execution_count": 0,
      "outputs": [
        {
          "output_type": "stream",
          "text": [
            "(75, 1)\n",
            "(25, 1)\n",
            "(75,)\n",
            "(25,)\n"
          ],
          "name": "stdout"
        }
      ]
    },
    {
      "cell_type": "code",
      "metadata": {
        "id": "pRcxs5byNLNZ",
        "colab_type": "code",
        "outputId": "a9e9615a-8664-4407-8f05-0c582aac29e4",
        "colab": {
          "base_uri": "https://localhost:8080/",
          "height": 412
        }
      },
      "source": [
        "import matplotlib.pyplot as plt\n",
        "import seaborn as sns\n",
        "sns.set()\n",
        "\n",
        "plt.figure(figsize = (7, 5))\n",
        "plt.scatter(X_train, y_train, c ='b', label = 'Zbiór treningowy')\n",
        "plt.scatter(X_test, y_test, c ='g', label = 'Zbiór testowy')\n",
        "plt.xlabel('X')\n",
        "plt.ylabel('y')\n",
        "plt.legend()\n"
      ],
      "execution_count": 0,
      "outputs": [
        {
          "output_type": "stream",
          "text": [
            "/usr/local/lib/python3.6/dist-packages/statsmodels/tools/_testing.py:19: FutureWarning: pandas.util.testing is deprecated. Use the functions in the public API at pandas.testing instead.\n",
            "  import pandas.util.testing as tm\n"
          ],
          "name": "stderr"
        },
        {
          "output_type": "execute_result",
          "data": {
            "text/plain": [
              "<matplotlib.legend.Legend at 0x7f0770385be0>"
            ]
          },
          "metadata": {
            "tags": []
          },
          "execution_count": 4
        },
        {
          "output_type": "display_data",
          "data": {
            "image/png": "[encoded data removed]",
            "text/plain": [
              "<Figure size 504x360 with 1 Axes>"
            ]
          },
          "metadata": {
            "tags": []
          }
        }
      ]
    },
    {
      "cell_type": "code",
      "metadata": {
        "id": "hLUMyEe9cn2x",
        "colab_type": "code",
        "outputId": "c6fe7343-d2e0-4307-deaa-d638a240d8ba",
        "colab": {
          "base_uri": "https://localhost:8080/",
          "height": 52
        }
      },
      "source": [
        "from sklearn.linear_model import LinearRegression\n",
        "\n",
        "lin_reg = LinearRegression()\n",
        "lin_reg.fit(X_train, y_train)\n",
        "\n",
        "# intercept_ - wartość wyrazu wolnego\n",
        "# coef_ wartość wagi\n",
        "\n",
        "print(lin_reg.coef_)\n",
        "print(lin_reg.intercept_)\n"
      ],
      "execution_count": 7,
      "outputs": [
        {
          "output_type": "stream",
          "text": [
            "[2.11200322]\n",
            "97.45159232017691\n"
          ],
          "name": "stdout"
        }
      ]
    },
    {
      "cell_type": "code",
      "metadata": {
        "id": "kKl4fObsgLXm",
        "colab_type": "code",
        "colab": {}
      },
      "source": [
        "# czyli rozwiązanie to: Y = 97.45 + 2.11 * x1"
      ],
      "execution_count": 0,
      "outputs": []
    },
    {
      "cell_type": "code",
      "metadata": {
        "id": "OIw0sVVUihTS",
        "colab_type": "code",
        "colab": {
          "base_uri": "https://localhost:8080/",
          "height": 356
        },
        "outputId": "717e2e4c-a034-4381-c082-6c0de70472af"
      },
      "source": [
        "#Wizualizacja zbioru treningowego i dopasowanego modelu\n",
        "\n",
        "plt.figure(figsize = (7, 5))\n",
        "plt.scatter(X_train, y_train, c ='b', label = 'Zbiór treningowy')\n",
        "plt.plot(X, lin_reg.intercept_ + lin_reg.coef_[0] * X,  c ='red')\n",
        "plt.xlabel('X')\n",
        "plt.ylabel('y')\n",
        "plt.legend()"
      ],
      "execution_count": 14,
      "outputs": [
        {
          "output_type": "execute_result",
          "data": {
            "text/plain": [
              "<matplotlib.legend.Legend at 0x7f076bbe6cf8>"
            ]
          },
          "metadata": {
            "tags": []
          },
          "execution_count": 14
        },
        {
          "output_type": "display_data",
          "data": {
            "image/png": "[encoded data removed]",
            "text/plain": [
              "<Figure size 504x360 with 1 Axes>"
            ]
          },
          "metadata": {
            "tags": []
          }
        }
      ]
    },
    {
      "cell_type": "code",
      "metadata": {
        "id": "HKdWDZ2sko5S",
        "colab_type": "code",
        "colab": {
          "base_uri": "https://localhost:8080/",
          "height": 372
        },
        "outputId": "edec0c93-244a-4270-e96b-e0302508f99c"
      },
      "source": [
        "#Wizualizacja zbioru testowego i dopasowanego modelu\n",
        "y_pred = lin_reg.predict(X_test)\n",
        "plt.figure(figsize = (7, 5))\n",
        "plt.title('Regresja liniowa - jedna zmienna')\n",
        "plt.scatter(X_test, y_test, c ='g', label = 'Zbiór testowy')\n",
        "plt.plot(X, lin_reg.intercept_ + lin_reg.coef_[0] * X,  c ='red')\n",
        "plt.xlabel('X')\n",
        "plt.ylabel('y')\n",
        "plt.legend()"
      ],
      "execution_count": 17,
      "outputs": [
        {
          "output_type": "execute_result",
          "data": {
            "text/plain": [
              "<matplotlib.legend.Legend at 0x7f076bb12fd0>"
            ]
          },
          "metadata": {
            "tags": []
          },
          "execution_count": 17
        },
        {
          "output_type": "display_data",
          "data": {
            "image/png": "[encoded data removed]",
            "text/plain": [
              "<Figure size 504x360 with 1 Axes>"
            ]
          },
          "metadata": {
            "tags": []
          }
        }
      ]
    },
    {
      "cell_type": "code",
      "metadata": {
        "id": "_UhFdup-lpGk",
        "colab_type": "code",
        "colab": {}
      },
      "source": [
        "# ocena modelu\n",
        "\n",
        "# metoda score zwraca współczynnik determinacji R2 nasej predykcji"
      ],
      "execution_count": 0,
      "outputs": []
    },
    {
      "cell_type": "code",
      "metadata": {
        "id": "-39bTiC1l-oi",
        "colab_type": "code",
        "colab": {
          "base_uri": "https://localhost:8080/",
          "height": 34
        },
        "outputId": "63eedc0a-6879-46e9-b6f8-bc44e80d99ef"
      },
      "source": [
        "lin_reg.score(X_test, y_test)"
      ],
      "execution_count": 26,
      "outputs": [
        {
          "output_type": "execute_result",
          "data": {
            "text/plain": [
              "0.855447115574928"
            ]
          },
          "metadata": {
            "tags": []
          },
          "execution_count": 26
        }
      ]
    },
    {
      "cell_type": "code",
      "metadata": {
        "id": "GAnqkD0Jm5Mj",
        "colab_type": "code",
        "colab": {}
      },
      "source": [
        ""
      ],
      "execution_count": 0,
      "outputs": []
    }
  ]
}