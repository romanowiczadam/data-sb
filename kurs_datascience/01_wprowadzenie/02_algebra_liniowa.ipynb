{
  "nbformat": 4,
  "nbformat_minor": 0,
  "metadata": {
    "colab": {
      "name": "02_algebra_liniowa.ipynb",
      "provenance": [],
      "toc_visible": true,
      "authorship_tag": "ABX9TyMTqeuP4s9OjBqR7JW88FA6",
      "include_colab_link": true
    },
    "kernelspec": {
      "name": "python3",
      "display_name": "Python 3"
    }
  },
  "cells": [
    {
      "cell_type": "markdown",
      "metadata": {
        "id": "view-in-github",
        "colab_type": "text"
      },
      "source": [
        "<a href=\"https://colab.research.google.com/github/romanowiczadam/data-sb/blob/master/kurs_datascience/01_wprowadzenie/02_algebra_liniowa.ipynb\" target=\"_parent\"><img src=\"https://colab.research.google.com/assets/colab-badge.svg\" alt=\"Open In Colab\"/></a>"
      ]
    },
    {
      "cell_type": "code",
      "metadata": {
        "id": "NlQat7bE2U1N",
        "colab_type": "code",
        "outputId": "c22c49d3-a980-4933-c41c-c151d4159b86",
        "colab": {
          "base_uri": "https://localhost:8080/",
          "height": 34
        }
      },
      "source": [
        "import numpy as np\n",
        "np.__version__"
      ],
      "execution_count": 3,
      "outputs": [
        {
          "output_type": "execute_result",
          "data": {
            "text/plain": [
              "'1.18.4'"
            ]
          },
          "metadata": {
            "tags": []
          },
          "execution_count": 3
        }
      ]
    },
    {
      "cell_type": "markdown",
      "metadata": {
        "id": "kWiN8FTi2HEQ",
        "colab_type": "text"
      },
      "source": [
        "# 2.1.Norma_wektora_dlugosc_wektora"
      ]
    },
    {
      "cell_type": "code",
      "metadata": {
        "id": "0zV8CCWg4SNc",
        "colab_type": "code",
        "colab": {}
      },
      "source": [
        "# norma wektora w przestrzeni R2\n",
        "# |v| = sqrt(   (v_1)**2    +    (v_2)**2  )\n",
        "\n",
        "# norma wektora w przestrzeni R2\n",
        "# |v| = sqrt(   (v_1)**2    +    (v_2)**2  +....+ (v_n)**2)"
      ],
      "execution_count": 0,
      "outputs": []
    },
    {
      "cell_type": "code",
      "metadata": {
        "id": "XSxzYviu4SGQ",
        "colab_type": "code",
        "outputId": "25c83b7b-b80e-4992-83f3-07aa10580d76",
        "colab": {
          "base_uri": "https://localhost:8080/",
          "height": 33
        }
      },
      "source": [
        "# obliczenie normy wektora w przestrzeni R2\n",
        "v1 = np.array([-1, 4])\n",
        "# aby obliczyc norme wektora v1należy użyć funkcji odnoszącej się do algebry liniowej linalg\n",
        "v1_n = np.linalg.norm(v1) \n",
        "print(v1_n)"
      ],
      "execution_count": 0,
      "outputs": [
        {
          "output_type": "stream",
          "text": [
            "4.123105625617661\n"
          ],
          "name": "stdout"
        }
      ]
    },
    {
      "cell_type": "code",
      "metadata": {
        "id": "_8n2bQsb8_uY",
        "colab_type": "code",
        "outputId": "e0c57370-c2c6-47d7-a30d-d02dbd7b32bb",
        "colab": {
          "base_uri": "https://localhost:8080/",
          "height": 50
        }
      },
      "source": [
        "# obliczenie normy wektora w przestrzeni R3\n",
        "v2 = np.array([-1, 4, 4])\n",
        "v2_n = np.linalg.norm(v2)\n",
        "print(v2_n)\n",
        "# obliczenie normy wektora w przestrzeni R5\n",
        "v3 = np.array([-1, 4, 4, -7, 3])\n",
        "v3_n = np.linalg.norm(v3)\n",
        "print(v3_n)"
      ],
      "execution_count": 0,
      "outputs": [
        {
          "output_type": "stream",
          "text": [
            "5.744562646538029\n",
            "9.539392014169456\n"
          ],
          "name": "stdout"
        }
      ]
    },
    {
      "cell_type": "code",
      "metadata": {
        "id": "frbWpV5yBgRh",
        "colab_type": "code",
        "outputId": "16c984f9-ea16-4f59-f632-bc326b5bcf6a",
        "colab": {
          "base_uri": "https://localhost:8080/",
          "height": 50
        }
      },
      "source": [
        "# obliczenie odległości pomiędzy dwoma punktami w przestrzeni Rn\n",
        "# d(a, b) = sqrt(   (a1 - b1)**2    +    (a2 - b2)**2  +....+ (an - bn)**2)\n",
        "p = np.array([3, 0])\n",
        "q = np.array([0, 4])\n",
        "# aby policzyć odległosc wykorzystujemy ta sama funkcję norm\n",
        "v_pq = np.linalg.norm(p - q) \n",
        "print(v_pq)\n",
        "\n",
        "p_2 = np.array([3, 0, 6, -4])\n",
        "q_2 = np.array([0, 4, 4, 3])\n",
        "# aby policzyć odległosc wykorzystujemy ta sama funkcję norm\n",
        "v_pq_2 = np.linalg.norm(p_2 - q_2) \n",
        "print(v_pq_2)"
      ],
      "execution_count": 0,
      "outputs": [
        {
          "output_type": "stream",
          "text": [
            "5.0\n",
            "8.831760866327848\n"
          ],
          "name": "stdout"
        }
      ]
    },
    {
      "cell_type": "markdown",
      "metadata": {
        "id": "3vH5ojMN4Qpy",
        "colab_type": "text"
      },
      "source": [
        "# 2.2.Mnozenie_macierzy"
      ]
    },
    {
      "cell_type": "code",
      "metadata": {
        "id": "AdU0QoZUHb3W",
        "colab_type": "code",
        "outputId": "a3870fce-004d-4d21-93b1-4ceb0c8edfa5",
        "colab": {
          "base_uri": "https://localhost:8080/",
          "height": 342
        }
      },
      "source": [
        "# Mamy dwie macierze:\n",
        "# A (m -wierszy i n - kolumn) oraz\n",
        "# B (n -wierszy i p - kolumn)\n",
        "# Aby mnożenie A x B było możliwe n kolumn w lewej macierzy musi być równe\n",
        "# liczbie wierszy w drugiej macierzy\n",
        "# Mnożenie macierzy nie jest przeminne A x B != B x A\n",
        "\n",
        "# przyklad mnożenia miacierzy\n",
        "A = np.array([[2, 4], [8, -2]])\n",
        "B = np.array([[1], [7]])\n",
        "\n",
        "print(A, '\\n')\n",
        "print(B, '\\n')\n",
        "# mnozenie\n",
        "\n",
        "Z = np.dot(A, B)\n",
        "print('Wynik:','\\n', Z)\n",
        "print('----------')\n",
        "C = np.array([[2, 4, 1], [8, -2, 1]])\n",
        "D = np.array([[1, -2, -2], [7,  4, -9], [1, 3,  4]])\n",
        "\n",
        "print(C, '\\n')\n",
        "print(D, '\\n')\n",
        "# mnozenie\n",
        "\n",
        "Z_2 = np.dot(C, D)\n",
        "print('Wynik:','\\n', Z_2)\n",
        "\n"
      ],
      "execution_count": 0,
      "outputs": [
        {
          "output_type": "stream",
          "text": [
            "[[ 2  4]\n",
            " [ 8 -2]] \n",
            "\n",
            "[[1]\n",
            " [7]] \n",
            "\n",
            "Wynik: \n",
            " [[30]\n",
            " [-6]]\n",
            "----------\n",
            "[[ 2  4  1]\n",
            " [ 8 -2  1]] \n",
            "\n",
            "[[ 1 -2 -2]\n",
            " [ 7  4 -9]\n",
            " [ 1  3  4]] \n",
            "\n",
            "Wynik: \n",
            " [[ 31  15 -36]\n",
            " [ -5 -21   6]]\n"
          ],
          "name": "stdout"
        }
      ]
    },
    {
      "cell_type": "markdown",
      "metadata": {
        "id": "ZAPF0j5aOW3V",
        "colab_type": "text"
      },
      "source": [
        "# 2.3.Algebra_liniowa_wyznacznik"
      ]
    },
    {
      "cell_type": "code",
      "metadata": {
        "id": "GKEcx489K-cE",
        "colab_type": "code",
        "colab": {}
      },
      "source": [
        "# wyznacznik macierzy\n",
        "# obliczenie wyznacznika  macierz jednoelementowa. element = wyznacznik\n",
        "# macierz 2x2\n",
        "# a11   a12\n",
        "# a21   a22   W   =   a11 * a 22   +   a12 * a21 = W     \n",
        "#\n",
        "# macierz 3 x 3\n",
        "# a11  a12  a13\n",
        "# a21  a22  a23\n",
        "# a31  a32  a33   W  = a11 * a22 * a33  +   a21  * a32  * a13 + a31 * a12 * a23 -\n",
        "#                     a21 * a12 * a33  -   a11 * a32 * a23  - a31 * a22 * a13 "
      ],
      "execution_count": 0,
      "outputs": []
    },
    {
      "cell_type": "code",
      "metadata": {
        "id": "wbKNeJqFxwfD",
        "colab_type": "code",
        "colab": {
          "base_uri": "https://localhost:8080/",
          "height": 0
        },
        "outputId": "00b09683-d944-43af-db37-93005c566551"
      },
      "source": [
        "# liczenie wyznacznika dla macierzy 2x2\n",
        "E = np.array([[3, 2], [9, -7]])\n",
        "w_1 = np.linalg.det(E)\n",
        "print(E, '\\n', w_1)"
      ],
      "execution_count": 6,
      "outputs": [
        {
          "output_type": "stream",
          "text": [
            "[[ 3  2]\n",
            " [ 9 -7]] \n",
            " -38.99999999999999\n"
          ],
          "name": "stdout"
        }
      ]
    },
    {
      "cell_type": "code",
      "metadata": {
        "id": "boeeIsBtzPzy",
        "colab_type": "code",
        "colab": {
          "base_uri": "https://localhost:8080/",
          "height": 0
        },
        "outputId": "4f367300-061d-4237-f4fa-19398d6d38b4"
      },
      "source": [
        "# slad macierzy to suma wartości na przekątnej\n",
        "# macierz 3 x 3\n",
        "# a11  a12  a13\n",
        "# a21  a22  a23\n",
        "# a31  a32  a33  tr   = a11 + a22 + a33\n",
        "t_1 = np.trace(E)\n",
        "print(t_1)"
      ],
      "execution_count": 18,
      "outputs": [
        {
          "output_type": "stream",
          "text": [
            "-4\n"
          ],
          "name": "stdout"
        }
      ]
    },
    {
      "cell_type": "code",
      "metadata": {
        "id": "X__HtdV5z-Mj",
        "colab_type": "code",
        "colab": {
          "base_uri": "https://localhost:8080/",
          "height": 0
        },
        "outputId": "ce121a4e-a646-423f-dce7-ae50215a1711"
      },
      "source": [
        "# macierz jednostkowa jest to macierz kwadratowa, ktorej wspolczynniki na przekatnej sa rowne 1\n",
        "# generowanie macierzy jednostkowej\n",
        "F = np.eye(4, dtype='int')\n",
        "print(F)"
      ],
      "execution_count": 12,
      "outputs": [
        {
          "output_type": "stream",
          "text": [
            "[[1 0 0 0]\n",
            " [0 1 0 0]\n",
            " [0 0 1 0]\n",
            " [0 0 0 1]]\n"
          ],
          "name": "stdout"
        }
      ]
    },
    {
      "cell_type": "code",
      "metadata": {
        "id": "BhB3WvCB0pQd",
        "colab_type": "code",
        "colab": {
          "base_uri": "https://localhost:8080/",
          "height": 0
        },
        "outputId": "6679ee9b-1d9d-4f84-fdf2-74c144854cff"
      },
      "source": [
        "# macierz odwrotna - macierz kwadratowa stopnia n. Macierz A posiada macierz\n",
        "# odwrotna, gdy istnieje taka macierz B, że     A x B = B x A = I\n",
        "# czyli po pomnożeniu tych  macierzy powstanie macierz jednostkowa\n",
        "# macierz odwrotna do macierzy E\n",
        "O_E = np.linalg.inv(E)\n",
        "print(O_E)\n",
        "# sprawdzenie\n",
        "SPR_E = np.dot(O_E, E)\n",
        "SPR_E_2 = np.dot(E, O_E)\n",
        "print(SPR_E, '\\n', SPR_E_2)"
      ],
      "execution_count": 19,
      "outputs": [
        {
          "output_type": "stream",
          "text": [
            "[[ 0.17948718  0.05128205]\n",
            " [ 0.23076923 -0.07692308]]\n",
            "[[ 1.00000000e+00  1.11022302e-16]\n",
            " [-5.55111512e-17  1.00000000e+00]] \n",
            " [[ 1.00000000e+00 -5.55111512e-17]\n",
            " [-5.55111512e-17  1.00000000e+00]]\n"
          ],
          "name": "stdout"
        }
      ]
    },
    {
      "cell_type": "code",
      "metadata": {
        "id": "kRLnm9kn2IXU",
        "colab_type": "code",
        "colab": {
          "base_uri": "https://localhost:8080/",
          "height": 0
        },
        "outputId": "a1d1ab33-6ad6-4997-d820-b245275c9111"
      },
      "source": [
        "# transponowanie macierzy - zamina wierszy na kolumny, kolumn na wiersze\n",
        "print(E)\n",
        "E_T = np.transpose(E) # można też\n",
        "E_T_2 = E.T\n",
        "print(E_T, '\\n', E_T_2)"
      ],
      "execution_count": 21,
      "outputs": [
        {
          "output_type": "stream",
          "text": [
            "[[ 3  2]\n",
            " [ 9 -7]]\n",
            "[[ 3  9]\n",
            " [ 2 -7]] \n",
            " [[ 3  9]\n",
            " [ 2 -7]]\n"
          ],
          "name": "stdout"
        }
      ]
    },
    {
      "cell_type": "code",
      "metadata": {
        "id": "O8VzbWOG4ImS",
        "colab_type": "code",
        "colab": {}
      },
      "source": [
        "2"
      ],
      "execution_count": 0,
      "outputs": []
    },
    {
      "cell_type": "markdown",
      "metadata": {
        "id": "PXtTZ27Nzwe8",
        "colab_type": "text"
      },
      "source": [
        "# 2.4.Algebra_liniowa_rozwiazywanie_ukladow_rownan"
      ]
    },
    {
      "cell_type": "code",
      "metadata": {
        "id": "9MEJcaPIz6vl",
        "colab_type": "code",
        "colab": {}
      },
      "source": [
        "# układ rownan\n",
        "# a11* x1 + a12 * x 2 +....+ a1n * xn  = b1\n",
        "# a21* x1 + a22 * x 2 +....+ a2n * xn  = b2\n",
        "# ...* .. + ...* .. +....+ ..... * ... = ..\n",
        "# am1* x1 + am2 * x 2 +....+ amn * xn  = bm\n",
        "\n",
        "# macierze z układu równań\n",
        "# |a11   a12  ....  a1n|  |x1|  |b1|\n",
        "# |a21   a22  ....  a2n|  |x2|  |b2|\n",
        "# |...   ...  ....  ...|  |..|  |..|\n",
        "# |am1   am2  ....  amn|  |xn|  |bn|\n",
        "\n",
        "# 1. macierz współczynników\n",
        "# 2. wektor niewiadomych\n",
        "# 3. wektor wyrazow wolnych\n",
        "# \n",
        "# A x X =B\n",
        "# gdy macierz jest kwadratowa mozemy obliczyc X za pomoca:\n",
        "# X = A_inv  x   B\n",
        "# przyklad rozwiazania uklkadu rownan(tylko w przypadku macierzy kwadratowych)\n",
        "#  2x +4y = 10\n",
        "#  x - y  = -1\n",
        "\n"
      ],
      "execution_count": 0,
      "outputs": []
    },
    {
      "cell_type": "code",
      "metadata": {
        "id": "4yZ4rQjkS1HZ",
        "colab_type": "code",
        "colab": {
          "base_uri": "https://localhost:8080/",
          "height": 87
        },
        "outputId": "fab0a13b-f747-4257-d4ed-c675c98cc9bd"
      },
      "source": [
        "# macierz współczynnikow\n",
        "A_m = np.array([[2, 4], [1, -1]])\n",
        "B_m = np.array([[10],[-1]])\n",
        "print(A_m)\n",
        "print(B_m)"
      ],
      "execution_count": 5,
      "outputs": [
        {
          "output_type": "stream",
          "text": [
            "[[ 2  4]\n",
            " [ 1 -1]]\n",
            "[[10]\n",
            " [-1]]\n"
          ],
          "name": "stdout"
        }
      ]
    },
    {
      "cell_type": "code",
      "metadata": {
        "id": "H6MfPhcgTOWJ",
        "colab_type": "code",
        "colab": {
          "base_uri": "https://localhost:8080/",
          "height": 87
        },
        "outputId": "62ba26bb-0cce-40ea-e276-5b6f604ae33b"
      },
      "source": [
        "# macierz odwrotna do macierzy A\n",
        "A_minv = np.linalg.inv(A_m)\n",
        "print(A_minv)\n",
        "X = np.dot(A_minv, B_m)\n",
        "print(X)"
      ],
      "execution_count": 9,
      "outputs": [
        {
          "output_type": "stream",
          "text": [
            "[[ 0.16666667  0.66666667]\n",
            " [ 0.16666667 -0.33333333]]\n",
            "[[1.]\n",
            " [2.]]\n"
          ],
          "name": "stdout"
        }
      ]
    },
    {
      "cell_type": "code",
      "metadata": {
        "id": "AsUWv05ETtk9",
        "colab_type": "code",
        "colab": {}
      },
      "source": [
        ""
      ],
      "execution_count": 0,
      "outputs": []
    }
  ]
}