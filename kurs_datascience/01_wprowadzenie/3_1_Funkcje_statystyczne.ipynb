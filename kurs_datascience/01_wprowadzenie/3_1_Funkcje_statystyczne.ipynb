{
  "nbformat": 4,
  "nbformat_minor": 0,
  "metadata": {
    "colab": {
      "name": "3.1.Funkcje_statystyczne.ipynb",
      "provenance": [],
      "authorship_tag": "ABX9TyP2E00oEatBLIaNDZ4yucEH",
      "include_colab_link": true
    },
    "kernelspec": {
      "name": "python3",
      "display_name": "Python 3"
    }
  },
  "cells": [
    {
      "cell_type": "markdown",
      "metadata": {
        "id": "view-in-github",
        "colab_type": "text"
      },
      "source": [
        "<a href=\"https://colab.research.google.com/github/romanowiczadam/data-sb/blob/master/kurs_datascience/01_wprowadzenie/3_1_Funkcje_statystyczne.ipynb\" target=\"_parent\"><img src=\"https://colab.research.google.com/assets/colab-badge.svg\" alt=\"Open In Colab\"/></a>"
      ]
    },
    {
      "cell_type": "markdown",
      "metadata": {
        "id": "MFzqvz0GYj0e",
        "colab_type": "text"
      },
      "source": [
        "# 3.1.Fukcje_statystyczne"
      ]
    },
    {
      "cell_type": "code",
      "metadata": {
        "id": "3sdV4kCXZayo",
        "colab_type": "code",
        "colab": {}
      },
      "source": [
        "import numpy as np"
      ],
      "execution_count": 0,
      "outputs": []
    },
    {
      "cell_type": "code",
      "metadata": {
        "id": "j3MX5MLTP86P",
        "colab_type": "code",
        "colab": {}
      },
      "source": [
        ""
      ],
      "execution_count": 0,
      "outputs": []
    },
    {
      "cell_type": "code",
      "metadata": {
        "id": "Dygzhk8QYoZn",
        "colab_type": "code",
        "colab": {
          "base_uri": "https://localhost:8080/",
          "height": 358
        },
        "outputId": "c19472ab-f87a-431d-b7d7-3a52b846f99a"
      },
      "source": [
        "\n",
        "price = np.array([[12.4, 12.8, 11.9, 1000],\n",
        "                  [12.5, 13,   11.7, 2000],\n",
        "                  [12.2, 13.4, 13.2, 1500]])\n",
        "print(price)\n",
        "# dodawanie wszystkich elementów tablicy\n",
        "print(price.sum())\n",
        "# sumowanie po kolumnach\n",
        "print(price.sum(axis = 0))\n",
        "# sumowanie po kolumnach\n",
        "print(price.sum(axis = 1))\n",
        "# może też być\n",
        "print(np.sum(price))\n",
        "print('----------------')\n",
        "# minimalna wartosc w tablicy\n",
        "print(np.min(price))\n",
        "# minimalne wartosci z poszczegolnych kolumn\n",
        "print(np.min(price, axis = 0))\n",
        "# minimalne wartosci z poszczegolnych wierszy\n",
        "print(np.min(price, axis = 1))\n",
        "# maxymalne wartosci z poszczegolnych kolumn\n",
        "print(np.max(price, axis = 0))\n",
        "# maxymalne wartosci z poszczegolnych wierszy\n",
        "print(np.max(price, axis = 1))\n",
        "print('----------------')\n",
        "# mediana z wszystkich wartosci w tablicy\n",
        "print(np.median(price))\n",
        "# średnia z wszystkich wartosci w tablicy\n",
        "print(np.mean(price))\n",
        "# średnia dla poszczegolnych kolumn\n",
        "print(np.mean(price, axis = 0))\n",
        "# średnia dla poszczegolnych wierszy\n",
        "print(np.mean(price, axis = 1))\n",
        "print('----------------')\n",
        "# odchylenie standardowe\n",
        "print(np.std(price))\n",
        "# wariancja dla poszczegolnych kolumn\n",
        "print(np.var(price, axis = 0))"
      ],
      "execution_count": 16,
      "outputs": [
        {
          "output_type": "stream",
          "text": [
            "[[  12.4   12.8   11.9 1000. ]\n",
            " [  12.5   13.    11.7 2000. ]\n",
            " [  12.2   13.4   13.2 1500. ]]\n",
            "4613.1\n",
            "[  37.1   39.2   36.8 4500. ]\n",
            "[1037.1 2037.2 1538.8]\n",
            "4613.1\n",
            "----------------\n",
            "11.7\n",
            "[  12.2   12.8   11.7 1000. ]\n",
            "[11.9 11.7 12.2]\n",
            "[  12.5   13.4   13.2 2000. ]\n",
            "[1000. 2000. 1500.]\n",
            "----------------\n",
            "12.9\n",
            "384.425\n",
            "[  12.36666667   13.06666667   12.26666667 1500.        ]\n",
            "[259.275 509.3   384.7  ]\n",
            "----------------\n",
            "675.6498737326901\n",
            "[1.55555556e-02 6.22222222e-02 4.42222222e-01 1.66666667e+05]\n"
          ],
          "name": "stdout"
        }
      ]
    },
    {
      "cell_type": "code",
      "metadata": {
        "id": "1--N7TyxQ7U7",
        "colab_type": "code",
        "colab": {
          "base_uri": "https://localhost:8080/",
          "height": 131
        },
        "outputId": "3d51b107-32ff-422a-9706-c161d59e7262"
      },
      "source": [
        "A = np.array([[1,2,3],[1,2,3]])\n",
        "B = np.array([[1],[2],[3]])\n",
        "print(A)\n",
        "print(B)\n",
        "C = np.dot(A, B)\n",
        "print(C)"
      ],
      "execution_count": 21,
      "outputs": [
        {
          "output_type": "stream",
          "text": [
            "[[1 2 3]\n",
            " [1 2 3]]\n",
            "[[1]\n",
            " [2]\n",
            " [3]]\n",
            "[[14]\n",
            " [14]]\n"
          ],
          "name": "stdout"
        }
      ]
    },
    {
      "cell_type": "code",
      "metadata": {
        "id": "ayBxgwGZZACc",
        "colab_type": "code",
        "colab": {}
      },
      "source": [
        ""
      ],
      "execution_count": 0,
      "outputs": []
    }
  ]
}