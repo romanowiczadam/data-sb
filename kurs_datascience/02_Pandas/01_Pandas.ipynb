{
  "nbformat": 4,
  "nbformat_minor": 0,
  "metadata": {
    "colab": {
      "name": "01_Pandas.ipynb",
      "provenance": [],
      "authorship_tag": "ABX9TyOegJhkMRlTgsIOb1n5xFPU",
      "include_colab_link": true
    },
    "kernelspec": {
      "name": "python3",
      "display_name": "Python 3"
    }
  },
  "cells": [
    {
      "cell_type": "markdown",
      "metadata": {
        "id": "view-in-github",
        "colab_type": "text"
      },
      "source": [
        "<a href=\"https://colab.research.google.com/github/romanowiczadam/data-sb/blob/master/kurs_datascience/02_Pandas/01_Pandas.ipynb\" target=\"_parent\"><img src=\"https://colab.research.google.com/assets/colab-badge.svg\" alt=\"Open In Colab\"/></a>"
      ]
    },
    {
      "cell_type": "markdown",
      "metadata": {
        "id": "Y3LtVh3VsiK_",
        "colab_type": "text"
      },
      "source": [
        "# 4.1.Pandas_Series"
      ]
    },
    {
      "cell_type": "code",
      "metadata": {
        "id": "V2pNdXmYPDMA",
        "colab_type": "code",
        "colab": {
          "base_uri": "https://localhost:8080/",
          "height": 34
        },
        "outputId": "caf3fc0e-ce6b-4c36-dbc0-7781d3d610c0"
      },
      "source": [
        "import pandas as pd\n",
        "import numpy as np\n",
        "pd.__version__"
      ],
      "execution_count": 2,
      "outputs": [
        {
          "output_type": "execute_result",
          "data": {
            "text/plain": [
              "'1.0.3'"
            ]
          },
          "metadata": {
            "tags": []
          },
          "execution_count": 2
        }
      ]
    },
    {
      "cell_type": "code",
      "metadata": {
        "id": "f_mCLTCkTx7-",
        "colab_type": "code",
        "colab": {
          "base_uri": "https://localhost:8080/",
          "height": 194
        },
        "outputId": "5c2c1f79-3c7c-44cb-d145-7f34e32ed98b"
      },
      "source": [
        "# obiekt typu Series\n",
        "# rozni sie od np.array tym ,ze ma przypisany domysleni indeks do kazdego wiersza\n",
        "s = pd.Series(data = [3, 5, 6, 3])\n",
        "print(s)\n",
        "# możemy podac sami indeks oraz naze\n",
        "s = pd.Series(data = [3, 5, 6, 3], index = ['a', 'b', 'c', 'd'], name = 'sample')\n",
        "print(s)"
      ],
      "execution_count": 5,
      "outputs": [
        {
          "output_type": "stream",
          "text": [
            "0    3\n",
            "1    5\n",
            "2    6\n",
            "3    3\n",
            "dtype: int64\n",
            "a    3\n",
            "b    5\n",
            "c    6\n",
            "d    3\n",
            "dtype: int64\n"
          ],
          "name": "stdout"
        }
      ]
    },
    {
      "cell_type": "code",
      "metadata": {
        "id": "ovxWBRvVTx02",
        "colab_type": "code",
        "colab": {
          "base_uri": "https://localhost:8080/",
          "height": 105
        },
        "outputId": "8896b983-f026-4831-b65c-c131a937e59e"
      },
      "source": [
        "# wstawianie braku wartosci w jednym miejscu\n",
        "s = pd.Series(data = [3, np.nan, 6, 3], index = ['a', 'b', 'c', 'd'], name = 'sample')\n",
        "print(s)\n",
        "# moze sie przydac np przy liczeniu sredniej, zeby nie zastepowac braku np zerem"
      ],
      "execution_count": 7,
      "outputs": [
        {
          "output_type": "stream",
          "text": [
            "a    3.0\n",
            "b    NaN\n",
            "c    6.0\n",
            "d    3.0\n",
            "Name: sample, dtype: float64\n"
          ],
          "name": "stdout"
        }
      ]
    },
    {
      "cell_type": "code",
      "metadata": {
        "id": "7JWX1HEsWU5A",
        "colab_type": "code",
        "colab": {
          "base_uri": "https://localhost:8080/",
          "height": 87
        },
        "outputId": "b9511fff-6400-4f64-99c1-f30409f1079d"
      },
      "source": [
        "s = pd.Series(data = [True, False, False], index = ['a', 'b', 'c'], name = 'sample_bool')\n",
        "print(s)"
      ],
      "execution_count": 8,
      "outputs": [
        {
          "output_type": "stream",
          "text": [
            "a     True\n",
            "b    False\n",
            "c    False\n",
            "Name: sample_bool, dtype: bool\n"
          ],
          "name": "stdout"
        }
      ]
    },
    {
      "cell_type": "code",
      "metadata": {
        "id": "6k1wFCcfWz5i",
        "colab_type": "code",
        "colab": {
          "base_uri": "https://localhost:8080/",
          "height": 283
        },
        "outputId": "0d9c1b25-eae6-4514-c1bd-ac30bd03e52d"
      },
      "source": [
        "# wstawienie do indeksu daty\n",
        "s_2 = pd.Series(data = np.arange(10,20), index = pd.date_range(start = '20200112', periods = 10))\n",
        "print(s_2)\n",
        "# wyswietlanie indexu\n",
        "print(s_2.index)"
      ],
      "execution_count": 13,
      "outputs": [
        {
          "output_type": "stream",
          "text": [
            "2020-01-12    10\n",
            "2020-01-13    11\n",
            "2020-01-14    12\n",
            "2020-01-15    13\n",
            "2020-01-16    14\n",
            "2020-01-17    15\n",
            "2020-01-18    16\n",
            "2020-01-19    17\n",
            "2020-01-20    18\n",
            "2020-01-21    19\n",
            "Freq: D, dtype: int64\n",
            "DatetimeIndex(['2020-01-12', '2020-01-13', '2020-01-14', '2020-01-15',\n",
            "               '2020-01-16', '2020-01-17', '2020-01-18', '2020-01-19',\n",
            "               '2020-01-20', '2020-01-21'],\n",
            "              dtype='datetime64[ns]', freq='D')\n"
          ],
          "name": "stdout"
        }
      ]
    },
    {
      "cell_type": "code",
      "metadata": {
        "id": "xhgYrSf-oeGw",
        "colab_type": "code",
        "colab": {
          "base_uri": "https://localhost:8080/",
          "height": 105
        },
        "outputId": "ecd0c895-75f5-4a67-8363-fec09e5ffd2b"
      },
      "source": [
        "# obiekt typu Series z nazwami\n",
        "s_3 = pd.Series(data = ['python', 'java', 'sql'], name = 'languages')\n",
        "print(s_3)\n",
        "# wyswietlanie indexu\n",
        "print(s_3.index)"
      ],
      "execution_count": 14,
      "outputs": [
        {
          "output_type": "stream",
          "text": [
            "0    python\n",
            "1      java\n",
            "2       sql\n",
            "Name: languages, dtype: object\n",
            "RangeIndex(start=0, stop=3, step=1)\n"
          ],
          "name": "stdout"
        }
      ]
    },
    {
      "cell_type": "code",
      "metadata": {
        "id": "Dd0q7bKxrj3i",
        "colab_type": "code",
        "colab": {
          "base_uri": "https://localhost:8080/",
          "height": 34
        },
        "outputId": "ada297fc-1262-4421-cf25-7b3e81cb039f"
      },
      "source": [
        "# generowanie wartości z obiektu Series\n",
        "print(s_3.values)"
      ],
      "execution_count": 15,
      "outputs": [
        {
          "output_type": "stream",
          "text": [
            "['python' 'java' 'sql']\n"
          ],
          "name": "stdout"
        }
      ]
    },
    {
      "cell_type": "code",
      "metadata": {
        "id": "KCQMfg68saZr",
        "colab_type": "code",
        "colab": {
          "base_uri": "https://localhost:8080/",
          "height": 52
        },
        "outputId": "f75b427c-20f4-4108-b377-84b5048dc677"
      },
      "source": [
        "# rodzaj danych\n",
        "print(s_2.dtype)\n",
        "print(s_3.dtype)"
      ],
      "execution_count": 16,
      "outputs": [
        {
          "output_type": "stream",
          "text": [
            "int64\n",
            "object\n"
          ],
          "name": "stdout"
        }
      ]
    },
    {
      "cell_type": "code",
      "metadata": {
        "id": "hxdjr2GUtrc4",
        "colab_type": "code",
        "colab": {
          "base_uri": "https://localhost:8080/",
          "height": 34
        },
        "outputId": "310199cf-109d-4d42-8ec9-0bf0e11ddcc8"
      },
      "source": [
        "# kształt danych\n",
        "print(s_3.shape)"
      ],
      "execution_count": 17,
      "outputs": [
        {
          "output_type": "stream",
          "text": [
            "(3,)\n"
          ],
          "name": "stdout"
        }
      ]
    },
    {
      "cell_type": "code",
      "metadata": {
        "id": "jMv2wL6ft-Do",
        "colab_type": "code",
        "colab": {
          "base_uri": "https://localhost:8080/",
          "height": 87
        },
        "outputId": "5a313113-9567-4b95-99ce-1039bc41afcc"
      },
      "source": [
        "# wycianie ze słownika\n",
        "price = pd.Series(data={'Apple':200, 'CD Project':60, 'Amz':250})\n",
        "print(price)"
      ],
      "execution_count": 20,
      "outputs": [
        {
          "output_type": "stream",
          "text": [
            "Apple         200\n",
            "CD Project     60\n",
            "Amz           250\n",
            "dtype: int64\n"
          ],
          "name": "stdout"
        }
      ]
    },
    {
      "cell_type": "code",
      "metadata": {
        "id": "2m-kO9hGuc6G",
        "colab_type": "code",
        "colab": {
          "base_uri": "https://localhost:8080/",
          "height": 52
        },
        "outputId": "99baf635-c121-4c8b-df2d-7db82c980b38"
      },
      "source": [
        "# wycinanie pojedynczej wartości\n",
        "print(price['CD Project'])\n",
        "# lub\n",
        "print(price[1])"
      ],
      "execution_count": 23,
      "outputs": [
        {
          "output_type": "stream",
          "text": [
            "60\n",
            "60\n"
          ],
          "name": "stdout"
        }
      ]
    },
    {
      "cell_type": "code",
      "metadata": {
        "id": "uCD9IzzXu1mX",
        "colab_type": "code",
        "colab": {
          "base_uri": "https://localhost:8080/",
          "height": 176
        },
        "outputId": "a02c3d46-bf21-4a6d-8bed-c3db54a2d7ef"
      },
      "source": [
        "# użyteczne funkcje\n",
        "# ilość elementów (kluczy z wartosciami\n",
        "print(price.count())\n",
        "# ile razy wystąpiły poszczególne wartosci\n",
        "print(price.value_counts())\n",
        "# (nie wlicza wartosci NaN)\n",
        "# ale w przypadku value_counts, żeby policzylo NaN można ustawić:\n",
        "# print(price.value_counts(dropna = False))"
      ],
      "execution_count": 29,
      "outputs": [
        {
          "output_type": "stream",
          "text": [
            "3\n",
            "60     1\n",
            "250    1\n",
            "200    1\n",
            "dtype: int64\n",
            "60     1\n",
            "250    1\n",
            "200    1\n",
            "dtype: int64\n"
          ],
          "name": "stdout"
        }
      ]
    },
    {
      "cell_type": "code",
      "metadata": {
        "id": "lK5bbcHmvWl2",
        "colab_type": "code",
        "colab": {
          "base_uri": "https://localhost:8080/",
          "height": 567
        },
        "outputId": "cb491ab8-e554-4e4f-a576-2829263d57c9"
      },
      "source": [
        "# sumowaneiw wartości\n",
        "print(price.sum())\n",
        "# minimalna wartosc\n",
        "print(price.min())\n",
        "# maksymalna wartości\n",
        "print(price.max())\n",
        "# odchylenie standrdowe wartości\n",
        "print(price.std())\n",
        "# opis obiektu Series\n",
        "print(price.describe())\n",
        "# wyciągniecie najwiekszego obiektu\n",
        "print(price.nlargest(1)) # można przekazac więcej\n",
        "# wyciągniecie warosci najmniejszej\n",
        "print(price.nsmallest(1)) # można przekazac więcej\n",
        "print('---------')\n",
        "# ranking poszczegolnych kluczy ( według wartości)\n",
        "print(price.rank())\n",
        "print('---------')\n",
        "# sortowanie wartosci (po wartosciach)\n",
        "print(price.sort_values())\n",
        "# odwrtona kolejność\n",
        "print(price.sort_values(ascending = False))\n",
        "print('---------')\n",
        "print(price.sort_values(ascending = False))"
      ],
      "execution_count": 34,
      "outputs": [
        {
          "output_type": "stream",
          "text": [
            "510\n",
            "60\n",
            "250\n",
            "98.48857801796105\n",
            "count      3.000000\n",
            "mean     170.000000\n",
            "std       98.488578\n",
            "min       60.000000\n",
            "25%      130.000000\n",
            "50%      200.000000\n",
            "75%      225.000000\n",
            "max      250.000000\n",
            "dtype: float64\n",
            "Amz    250\n",
            "dtype: int64\n",
            "CD Project    60\n",
            "dtype: int64\n",
            "---------\n",
            "Apple         2.0\n",
            "CD Project    1.0\n",
            "Amz           3.0\n",
            "dtype: float64\n",
            "---------\n",
            "CD Project     60\n",
            "Apple         200\n",
            "Amz           250\n",
            "dtype: int64\n",
            "Amz           250\n",
            "Apple         200\n",
            "CD Project     60\n",
            "dtype: int64\n"
          ],
          "name": "stdout"
        }
      ]
    },
    {
      "cell_type": "code",
      "metadata": {
        "id": "rBRZzDXkxO5x",
        "colab_type": "code",
        "colab": {
          "base_uri": "https://localhost:8080/",
          "height": 87
        },
        "outputId": "268e18d3-dbba-40eb-8448-c415d70a4ac2"
      },
      "source": [
        "# metoda apply\n",
        "# metoda apply przyjmuje za argumenty dana funkcje\n",
        "# przeliczenie na zlote (z dolarow)\n",
        "price_d = price.apply(lambda x: x * 4.1 )\n",
        "print(price_d)\n",
        "# bez przypisania dane nie zostana zapisane"
      ],
      "execution_count": 35,
      "outputs": [
        {
          "output_type": "stream",
          "text": [
            "Apple          820.0\n",
            "CD Project     246.0\n",
            "Amz           1025.0\n",
            "dtype: float64\n"
          ],
          "name": "stdout"
        }
      ]
    },
    {
      "cell_type": "code",
      "metadata": {
        "id": "-bsP6tZk3KVZ",
        "colab_type": "code",
        "colab": {}
      },
      "source": [
        "# METOD"
      ],
      "execution_count": 0,
      "outputs": []
    },
    {
      "cell_type": "markdown",
      "metadata": {
        "id": "dOFapJTxtFqM",
        "colab_type": "text"
      },
      "source": [
        "# 4.2.Pandas_data_frame"
      ]
    },
    {
      "cell_type": "code",
      "metadata": {
        "id": "0lakVdA9tP1d",
        "colab_type": "code",
        "colab": {
          "base_uri": "https://localhost:8080/",
          "height": 87
        },
        "outputId": "1277a476-ffb4-4ad8-ca7b-6e51e216e62f"
      },
      "source": [
        "# Tworzenie obiektu DataFrame\n",
        "df = pd.DataFrame(data = [12, 45, 21])\n",
        "print(df)"
      ],
      "execution_count": 4,
      "outputs": [
        {
          "output_type": "stream",
          "text": [
            "    0\n",
            "0  12\n",
            "1  45\n",
            "2  21\n"
          ],
          "name": "stdout"
        }
      ]
    },
    {
      "cell_type": "code",
      "metadata": {
        "id": "M3csuMB0ypKF",
        "colab_type": "code",
        "colab": {
          "base_uri": "https://localhost:8080/",
          "height": 87
        },
        "outputId": "eb9a33ca-f4e4-428b-b5a5-aa6757ba6d88"
      },
      "source": [
        "df = pd.DataFrame(data = [12, 45, 21], index = ['first', 'second', 'third'], columns = ['col_1'])\n",
        "print(df)"
      ],
      "execution_count": 9,
      "outputs": [
        {
          "output_type": "stream",
          "text": [
            "        col_1\n",
            "first      12\n",
            "second     45\n",
            "third      21\n"
          ],
          "name": "stdout"
        }
      ]
    },
    {
      "cell_type": "code",
      "metadata": {
        "id": "bYASJU9L1lZw",
        "colab_type": "code",
        "colab": {
          "base_uri": "https://localhost:8080/",
          "height": 70
        },
        "outputId": "54808e9e-d244-45ae-e44e-22c34389a878"
      },
      "source": [
        "df = pd.DataFrame(data = {'WIG20':  ['PKN Orlen', 'PKOBP'],\n",
        "                          'mWIG40': ['Amica', 'Playway']})\n",
        "print(df)"
      ],
      "execution_count": 3,
      "outputs": [
        {
          "output_type": "stream",
          "text": [
            "       WIG20   mWIG40\n",
            "0  PKN Orlen    Amica\n",
            "1      PKOBP  Playway\n"
          ],
          "name": "stdout"
        }
      ]
    },
    {
      "cell_type": "code",
      "metadata": {
        "id": "_FZV3jXn4heO",
        "colab_type": "code",
        "colab": {
          "base_uri": "https://localhost:8080/",
          "height": 107
        },
        "outputId": "094e1540-8819-4460-95ee-555db4bc5aa6"
      },
      "source": [
        "#budowa prostego obiektu typu DataFrame\n",
        "df = pd.DataFrame(data = [[12, 45, 21],[11, 87, 54]], index = ['first', 'second'], columns = ['col_1','col_2','col_3'])\n",
        "df"
      ],
      "execution_count": 6,
      "outputs": [
        {
          "output_type": "execute_result",
          "data": {
            "text/html": [
              "<div>\n",
              "<style scoped>\n",
              "    .dataframe tbody tr th:only-of-type {\n",
              "        vertical-align: middle;\n",
              "    }\n",
              "\n",
              "    .dataframe tbody tr th {\n",
              "        vertical-align: top;\n",
              "    }\n",
              "\n",
              "    .dataframe thead th {\n",
              "        text-align: right;\n",
              "    }\n",
              "</style>\n",
              "<table border=\"1\" class=\"dataframe\">\n",
              "  <thead>\n",
              "    <tr style=\"text-align: right;\">\n",
              "      <th></th>\n",
              "      <th>col_1</th>\n",
              "      <th>col_2</th>\n",
              "      <th>col_3</th>\n",
              "    </tr>\n",
              "  </thead>\n",
              "  <tbody>\n",
              "    <tr>\n",
              "      <th>first</th>\n",
              "      <td>12</td>\n",
              "      <td>45</td>\n",
              "      <td>21</td>\n",
              "    </tr>\n",
              "    <tr>\n",
              "      <th>second</th>\n",
              "      <td>11</td>\n",
              "      <td>87</td>\n",
              "      <td>54</td>\n",
              "    </tr>\n",
              "  </tbody>\n",
              "</table>\n",
              "</div>"
            ],
            "text/plain": [
              "        col_1  col_2  col_3\n",
              "first      12     45     21\n",
              "second     11     87     54"
            ]
          },
          "metadata": {
            "tags": []
          },
          "execution_count": 6
        }
      ]
    },
    {
      "cell_type": "code",
      "metadata": {
        "id": "3hOHjQu-v0YD",
        "colab_type": "code",
        "colab": {
          "base_uri": "https://localhost:8080/",
          "height": 52
        },
        "outputId": "6386cef3-5eec-41d9-a2d6-71b882ae828e"
      },
      "source": [
        "# wycinanie nazw kolumn\n",
        "df.columns\n",
        "c = df.columns\n",
        "print(c)\n",
        "df.columns"
      ],
      "execution_count": 9,
      "outputs": [
        {
          "output_type": "stream",
          "text": [
            "Index(['col_1', 'col_2', 'col_3'], dtype='object')\n"
          ],
          "name": "stdout"
        },
        {
          "output_type": "execute_result",
          "data": {
            "text/plain": [
              "Index(['col_1', 'col_2', 'col_3'], dtype='object')"
            ]
          },
          "metadata": {
            "tags": []
          },
          "execution_count": 9
        }
      ]
    },
    {
      "cell_type": "code",
      "metadata": {
        "id": "ca3Copr95ifU",
        "colab_type": "code",
        "colab": {
          "base_uri": "https://localhost:8080/",
          "height": 185
        },
        "outputId": "3286392e-9113-410c-f875-9c99a0805ed7"
      },
      "source": [
        "# wycinanie nazw wierszów\n",
        "df.index"
      ],
      "execution_count": 11,
      "outputs": [
        {
          "output_type": "error",
          "ename": "TypeError",
          "evalue": "ignored",
          "traceback": [
            "\u001b[0;31m---------------------------------------------------------------------------\u001b[0m",
            "\u001b[0;31mTypeError\u001b[0m                                 Traceback (most recent call last)",
            "\u001b[0;32m<ipython-input-11-ec64b5922369>\u001b[0m in \u001b[0;36m<module>\u001b[0;34m()\u001b[0m\n\u001b[1;32m      1\u001b[0m \u001b[0;31m# wycinanie nazw wierszów\u001b[0m\u001b[0;34m\u001b[0m\u001b[0;34m\u001b[0m\u001b[0;34m\u001b[0m\u001b[0m\n\u001b[0;32m----> 2\u001b[0;31m \u001b[0mdf\u001b[0m\u001b[0;34m.\u001b[0m\u001b[0mindex\u001b[0m\u001b[0;34m(\u001b[0m\u001b[0;36m1\u001b[0m\u001b[0;34m)\u001b[0m\u001b[0;34m\u001b[0m\u001b[0;34m\u001b[0m\u001b[0m\n\u001b[0m",
            "\u001b[0;31mTypeError\u001b[0m: 'Index' object is not callable"
          ]
        }
      ]
    },
    {
      "cell_type": "code",
      "metadata": {
        "id": "ykn49oYK5s_f",
        "colab_type": "code",
        "colab": {
          "base_uri": "https://localhost:8080/",
          "height": 52
        },
        "outputId": "90529a87-0270-47b0-9578-43ba834b633c"
      },
      "source": [
        "# aby dostać sie do dnych z obiektu DataFrame można zastosowac\n",
        "# funkcje values, która zwraca obiekt typu nd.array\n",
        "df.values"
      ],
      "execution_count": 12,
      "outputs": [
        {
          "output_type": "execute_result",
          "data": {
            "text/plain": [
              "array([[12, 45, 21],\n",
              "       [11, 87, 54]])"
            ]
          },
          "metadata": {
            "tags": []
          },
          "execution_count": 12
        }
      ]
    },
    {
      "cell_type": "code",
      "metadata": {
        "id": "t33DBcpT6Ar0",
        "colab_type": "code",
        "colab": {
          "base_uri": "https://localhost:8080/",
          "height": 483
        },
        "outputId": "4f8265ae-3e0a-4115-9003-fc11a158e6ae"
      },
      "source": [
        "# informacje na temat obiektu\n",
        "df.info()\n",
        "# opis obiektu dta frame\n",
        "print('----------')\n",
        "df.describe()"
      ],
      "execution_count": 14,
      "outputs": [
        {
          "output_type": "stream",
          "text": [
            "<class 'pandas.core.frame.DataFrame'>\n",
            "Index: 2 entries, first to second\n",
            "Data columns (total 3 columns):\n",
            " #   Column  Non-Null Count  Dtype\n",
            "---  ------  --------------  -----\n",
            " 0   col_1   2 non-null      int64\n",
            " 1   col_2   2 non-null      int64\n",
            " 2   col_3   2 non-null      int64\n",
            "dtypes: int64(3)\n",
            "memory usage: 144.0+ bytes\n",
            "----------\n"
          ],
          "name": "stdout"
        },
        {
          "output_type": "execute_result",
          "data": {
            "text/html": [
              "<div>\n",
              "<style scoped>\n",
              "    .dataframe tbody tr th:only-of-type {\n",
              "        vertical-align: middle;\n",
              "    }\n",
              "\n",
              "    .dataframe tbody tr th {\n",
              "        vertical-align: top;\n",
              "    }\n",
              "\n",
              "    .dataframe thead th {\n",
              "        text-align: right;\n",
              "    }\n",
              "</style>\n",
              "<table border=\"1\" class=\"dataframe\">\n",
              "  <thead>\n",
              "    <tr style=\"text-align: right;\">\n",
              "      <th></th>\n",
              "      <th>col_1</th>\n",
              "      <th>col_2</th>\n",
              "      <th>col_3</th>\n",
              "    </tr>\n",
              "  </thead>\n",
              "  <tbody>\n",
              "    <tr>\n",
              "      <th>count</th>\n",
              "      <td>2.000000</td>\n",
              "      <td>2.000000</td>\n",
              "      <td>2.000000</td>\n",
              "    </tr>\n",
              "    <tr>\n",
              "      <th>mean</th>\n",
              "      <td>11.500000</td>\n",
              "      <td>66.000000</td>\n",
              "      <td>37.500000</td>\n",
              "    </tr>\n",
              "    <tr>\n",
              "      <th>std</th>\n",
              "      <td>0.707107</td>\n",
              "      <td>29.698485</td>\n",
              "      <td>23.334524</td>\n",
              "    </tr>\n",
              "    <tr>\n",
              "      <th>min</th>\n",
              "      <td>11.000000</td>\n",
              "      <td>45.000000</td>\n",
              "      <td>21.000000</td>\n",
              "    </tr>\n",
              "    <tr>\n",
              "      <th>25%</th>\n",
              "      <td>11.250000</td>\n",
              "      <td>55.500000</td>\n",
              "      <td>29.250000</td>\n",
              "    </tr>\n",
              "    <tr>\n",
              "      <th>50%</th>\n",
              "      <td>11.500000</td>\n",
              "      <td>66.000000</td>\n",
              "      <td>37.500000</td>\n",
              "    </tr>\n",
              "    <tr>\n",
              "      <th>75%</th>\n",
              "      <td>11.750000</td>\n",
              "      <td>76.500000</td>\n",
              "      <td>45.750000</td>\n",
              "    </tr>\n",
              "    <tr>\n",
              "      <th>max</th>\n",
              "      <td>12.000000</td>\n",
              "      <td>87.000000</td>\n",
              "      <td>54.000000</td>\n",
              "    </tr>\n",
              "  </tbody>\n",
              "</table>\n",
              "</div>"
            ],
            "text/plain": [
              "           col_1      col_2      col_3\n",
              "count   2.000000   2.000000   2.000000\n",
              "mean   11.500000  66.000000  37.500000\n",
              "std     0.707107  29.698485  23.334524\n",
              "min    11.000000  45.000000  21.000000\n",
              "25%    11.250000  55.500000  29.250000\n",
              "50%    11.500000  66.000000  37.500000\n",
              "75%    11.750000  76.500000  45.750000\n",
              "max    12.000000  87.000000  54.000000"
            ]
          },
          "metadata": {
            "tags": []
          },
          "execution_count": 14
        }
      ]
    },
    {
      "cell_type": "code",
      "metadata": {
        "id": "XNhxxnU16I85",
        "colab_type": "code",
        "colab": {
          "base_uri": "https://localhost:8080/",
          "height": 230
        },
        "outputId": "4927adbc-be3b-425a-be58-7e90cbabdf94"
      },
      "source": [
        "# selekcja danych kolumn\n",
        "print(df)\n",
        "print('------')\n",
        "# wycinanie kolumny\n",
        "print(df['col_1'])\n",
        "# typ wycietych danych\n",
        "print(type(df['col_1'])) # Series\n",
        "# aby otrzymać obiekt DataFrame z wyciecia\n",
        "print(df[['col_1']])\n",
        "print(type(df[['col_1']]))"
      ],
      "execution_count": 19,
      "outputs": [
        {
          "output_type": "stream",
          "text": [
            "        col_1  col_2  col_3\n",
            "first      12     45     21\n",
            "second     11     87     54\n",
            "------\n",
            "first     12\n",
            "second    11\n",
            "Name: col_1, dtype: int64\n",
            "<class 'pandas.core.series.Series'>\n",
            "        col_1\n",
            "first      12\n",
            "second     11\n",
            "<class 'pandas.core.frame.DataFrame'>\n"
          ],
          "name": "stdout"
        }
      ]
    },
    {
      "cell_type": "code",
      "metadata": {
        "id": "w6tURRMY67Ly",
        "colab_type": "code",
        "colab": {
          "base_uri": "https://localhost:8080/",
          "height": 141
        },
        "outputId": "d9be7c2a-b191-4cc2-a917-9ca7dc3b6fd3"
      },
      "source": [
        "# przypisanie nowych naz kolumn\n",
        "df.columns = ['a', 'b', 'c']\n",
        "print(df)\n",
        "# drugi sposób wycinania kolumny\n",
        "print(df.a)\n",
        "print(type(df.a))\n",
        "# ten sposob nie zawsze bedzie praktyczny\n",
        "# bo gdyby wystapila spacja w nazwie kolumny\n",
        "# to nie wytniemy kolumny - chyba, ze użylibyśmy podkreślnika\n",
        "# za pomocą tej metody nie stworzymy nowej kolumny\n",
        "# z kolei za pomocą pierwszej metody możemy stworzyć nową kolumnę\n",
        "df['d'] = df['c'] + df['b']"
      ],
      "execution_count": 28,
      "outputs": [
        {
          "output_type": "stream",
          "text": [
            "         a   b   c    d\n",
            "first   12  45  21   66\n",
            "second  11  87  54  141\n",
            "first     12\n",
            "second    11\n",
            "Name: a, dtype: int64\n",
            "<class 'pandas.core.series.Series'>\n"
          ],
          "name": "stdout"
        }
      ]
    },
    {
      "cell_type": "code",
      "metadata": {
        "id": "2ioVkANq735G",
        "colab_type": "code",
        "colab": {
          "base_uri": "https://localhost:8080/",
          "height": 70
        },
        "outputId": "9c05d910-2aa8-4697-943f-5b938a609bbe"
      },
      "source": [
        "print(df)"
      ],
      "execution_count": 29,
      "outputs": [
        {
          "output_type": "stream",
          "text": [
            "         a   b   c    d\n",
            "first   12  45  21   66\n",
            "second  11  87  54  141\n"
          ],
          "name": "stdout"
        }
      ]
    },
    {
      "cell_type": "code",
      "metadata": {
        "id": "ATGYkjHw9SDR",
        "colab_type": "code",
        "colab": {
          "base_uri": "https://localhost:8080/",
          "height": 372
        },
        "outputId": "6bd99534-d4d3-4fdb-b883-c65b55dc0021"
      },
      "source": [
        "print(df)\n",
        "# wycinanie wierszy\n",
        "# metoda loc pozwala wycinac wiersz po nazwie\n",
        "print(df.loc['first'])\n",
        "# jesli chcemy wyciąć po numerze wiersza stosujemy iloc\n",
        "print(df.iloc[0])\n",
        "# wycinanie kolumny\n",
        "print('----------')\n",
        "print(df.loc[:, 'b'])\n",
        "# wycinanie konkretnego elementu z danej kolumny i wiersza\n",
        "print('------------')\n",
        "print(df.loc['first', 'a'])\n",
        "# lub\n",
        "print(df.iloc[0, 0])\n"
      ],
      "execution_count": 38,
      "outputs": [
        {
          "output_type": "stream",
          "text": [
            "         a   b   c    d\n",
            "first   12  45  21   66\n",
            "second  11  87  54  141\n",
            "a    12\n",
            "b    45\n",
            "c    21\n",
            "d    66\n",
            "Name: first, dtype: int64\n",
            "a    12\n",
            "b    45\n",
            "c    21\n",
            "d    66\n",
            "Name: first, dtype: int64\n",
            "----------\n",
            "first     45\n",
            "second    87\n",
            "Name: b, dtype: int64\n",
            "------------\n",
            "12\n",
            "12\n"
          ],
          "name": "stdout"
        }
      ]
    },
    {
      "cell_type": "code",
      "metadata": {
        "id": "17-2tWxZIW0S",
        "colab_type": "code",
        "colab": {}
      },
      "source": [
        ""
      ],
      "execution_count": 0,
      "outputs": []
    }
  ]
}