{
  "nbformat": 4,
  "nbformat_minor": 0,
  "metadata": {
    "colab": {
      "name": "1.Podstawy.ipynb",
      "provenance": [],
      "collapsed_sections": [
        "kTM0WfRl8Q_g",
        "UtFhf4fcFkz1",
        "eo1IauwFULka"
      ],
      "authorship_tag": "ABX9TyPOVLXQMKDJI5wQlwDCL/cq",
      "include_colab_link": true
    },
    "kernelspec": {
      "name": "python3",
      "display_name": "Python 3"
    }
  },
  "cells": [
    {
      "cell_type": "markdown",
      "metadata": {
        "id": "view-in-github",
        "colab_type": "text"
      },
      "source": [
        "<a href=\"https://colab.research.google.com/github/romanowiczadam/data-sb/blob/master/1_Podstawy.ipynb\" target=\"_parent\"><img src=\"https://colab.research.google.com/assets/colab-badge.svg\" alt=\"Open In Colab\"/></a>"
      ]
    },
    {
      "cell_type": "markdown",
      "metadata": {
        "id": "kTM0WfRl8Q_g",
        "colab_type": "text"
      },
      "source": [
        "# 1.1.Tablice"
      ]
    },
    {
      "cell_type": "code",
      "metadata": {
        "id": "XkvgJPDY5PB2",
        "colab_type": "code",
        "colab": {}
      },
      "source": [
        "from google.colab import drive\n",
        "drive.mount('/content/drive')"
      ],
      "execution_count": 0,
      "outputs": []
    },
    {
      "cell_type": "code",
      "metadata": {
        "id": "IXlzaC5PkZtw",
        "colab_type": "code",
        "outputId": "f512a924-3a8e-4e46-d66d-9c6bfc5f61f9",
        "colab": {
          "base_uri": "https://localhost:8080/",
          "height": 34
        }
      },
      "source": [
        "import numpy as np \n",
        "np.__version__"
      ],
      "execution_count": 2,
      "outputs": [
        {
          "output_type": "execute_result",
          "data": {
            "text/plain": [
              "'1.18.4'"
            ]
          },
          "metadata": {
            "tags": []
          },
          "execution_count": 2
        }
      ]
    },
    {
      "cell_type": "code",
      "metadata": {
        "id": "fjZ9trpSlp4R",
        "colab_type": "code",
        "colab": {}
      },
      "source": [
        "help(np.array)"
      ],
      "execution_count": 0,
      "outputs": []
    },
    {
      "cell_type": "code",
      "metadata": {
        "id": "oots556YlIuC",
        "colab_type": "code",
        "colab": {}
      },
      "source": [
        "print(dir(np))"
      ],
      "execution_count": 0,
      "outputs": []
    },
    {
      "cell_type": "code",
      "metadata": {
        "id": "g6hBN_BcmAGk",
        "colab_type": "code",
        "outputId": "23b63c61-3c6b-415e-d282-8ac203161f0f",
        "colab": {
          "base_uri": "https://localhost:8080/",
          "height": 102
        }
      },
      "source": [
        "x = np.array([1.1, 2, 3, 4, 5])\n",
        "\n",
        "print(x)\n",
        "type(x)\n",
        "print(x.ndim) #sprawdza wymiar tablicy\n",
        "print(x.shape) #sprawdza ksztalt tablicy\n",
        "print(x.size) #sprawdza rozmiar tablicy\n",
        "print(x.dtype) # określanie typu danych w tablicy"
      ],
      "execution_count": 0,
      "outputs": [
        {
          "output_type": "stream",
          "text": [
            "[1.1 2.  3.  4.  5. ]\n",
            "1\n",
            "(5,)\n",
            "5\n",
            "float64\n"
          ],
          "name": "stdout"
        }
      ]
    },
    {
      "cell_type": "code",
      "metadata": {
        "id": "WWLa9hpQqYoN",
        "colab_type": "code",
        "outputId": "da7f1a2f-2444-4644-d966-b90f3bc7878a",
        "colab": {
          "base_uri": "https://localhost:8080/",
          "height": 119
        }
      },
      "source": [
        "# tablica dwuwymiarowa\n",
        "y = np.array([[1, 2], [7, 9]])\n",
        "print(y)\n",
        "print(y.ndim) #sprawdza wymiar tablicy\n",
        "print(y.shape) #sprawdza ksztalt tablicy\n",
        "print(y.size) #sprawdza rozmiar tablicy\n",
        "print(y.dtype) # określanie typu danych w tablicy"
      ],
      "execution_count": 0,
      "outputs": [
        {
          "output_type": "stream",
          "text": [
            "[[1 2]\n",
            " [7 9]]\n",
            "2\n",
            "(2, 2)\n",
            "4\n",
            "int64\n"
          ],
          "name": "stdout"
        }
      ]
    },
    {
      "cell_type": "code",
      "metadata": {
        "id": "_xZtuYqPy5br",
        "colab_type": "code",
        "outputId": "e470c4de-4d03-4644-f31d-44d77d78ba78",
        "colab": {
          "base_uri": "https://localhost:8080/",
          "height": 136
        }
      },
      "source": [
        "# tablica dwuwymiarowa # 2\n",
        "y_2 = np.array([[1, 2], [7, 9], [1, 1]])\n",
        "print(y_2)\n",
        "print(y_2.ndim) #sprawdza wymiar tablicy\n",
        "print(y_2.shape) #sprawdza ksztalt tablicy (najpierw podaje ilosc wierszy, a pozniej kolumn)\n",
        "print(y_2.size) #sprawdza rozmiar tablicy\n",
        "print(y_2.dtype) # określanie typu danych w tablicy"
      ],
      "execution_count": 0,
      "outputs": [
        {
          "output_type": "stream",
          "text": [
            "[[1 2]\n",
            " [7 9]\n",
            " [1 1]]\n",
            "2\n",
            "(3, 2)\n",
            "6\n",
            "int64\n"
          ],
          "name": "stdout"
        }
      ]
    },
    {
      "cell_type": "code",
      "metadata": {
        "id": "Rf6tT4Wdv79k",
        "colab_type": "code",
        "outputId": "7e531908-293f-45d1-a7e3-a7f5afd1aa61",
        "colab": {
          "base_uri": "https://localhost:8080/",
          "height": 221
        }
      },
      "source": [
        "# tablica trójwymiarowa\n",
        "z = np.array([  [[1, 2, 4, 3], \n",
        "                 [7, 9, 7, 1]],\n",
        "              \n",
        "                [[2, 1, 9, 9],\n",
        "                 [8, 4, 5, 2]],\n",
        "              \n",
        "                [[2, 1, 9, 9],\n",
        "                 [8, 4, 5, 2]]  ])\n",
        "print(z)\n",
        "print(z.ndim) #sprawdza wymiar tablicy\n",
        "print(z.shape) #sprawdza ksztalt tablicy\n",
        "print(z.size) #sprawdza rozmiar tablicy (ilosc elementow liczona jest''od zewnatrz')\n",
        "print(z.dtype) # określanie typu danych w tablicy"
      ],
      "execution_count": 0,
      "outputs": [
        {
          "output_type": "stream",
          "text": [
            "[[[1 2 4 3]\n",
            "  [7 9 7 1]]\n",
            "\n",
            " [[2 1 9 9]\n",
            "  [8 4 5 2]]\n",
            "\n",
            " [[2 1 9 9]\n",
            "  [8 4 5 2]]]\n",
            "3\n",
            "(3, 2, 4)\n",
            "24\n",
            "int64\n"
          ],
          "name": "stdout"
        }
      ]
    },
    {
      "cell_type": "markdown",
      "metadata": {
        "id": "UtFhf4fcFkz1",
        "colab_type": "text"
      },
      "source": [
        "# 1.2.Typy_Danych"
      ]
    },
    {
      "cell_type": "code",
      "metadata": {
        "id": "t9HAFAAHFnMJ",
        "colab_type": "code",
        "colab": {
          "base_uri": "https://localhost:8080/",
          "height": 0
        },
        "outputId": "a2937f6b-49c1-4dff-d2b3-b9cdfda5007e"
      },
      "source": [
        "A = np.array([1, 2, 3], dtype = 'float')  # możemy ręcznie przekazać typ danych za pomoca dtyp(np 'float lub complex)\n",
        "print(A, A.dtype)\n",
        "# na całkowite trzeba uważac, bo zaokragla w dol\n",
        "B = np.array([1.2, 2.8, 3.5], dtype = 'int')  # możemy ręcznie przekazać typ danych za pomoca dtyp(np 'float lub complex)\n",
        "print(B, B.dtype)"
      ],
      "execution_count": 30,
      "outputs": [
        {
          "output_type": "stream",
          "text": [
            "[1. 2. 3.] float64\n",
            "[1 2 3] int64\n"
          ],
          "name": "stdout"
        }
      ]
    },
    {
      "cell_type": "code",
      "metadata": {
        "id": "iq3wwFTrJvxc",
        "colab_type": "code",
        "colab": {
          "base_uri": "https://localhost:8080/",
          "height": 0
        },
        "outputId": "f235ffa2-a6f6-44c2-b2db-bdae1b543631"
      },
      "source": [
        "# przykładowy piksel można wpiasać, aby typ danych to była 8 bitowa liczba całkowita\n",
        "# żeby dana zawierała mniej miejsca\n",
        "C = np.array([12, 47, 22], dtype = np.int8) # można tez uzyc zmiennej typu uint8\n",
        "print(C.dtype)\n"
      ],
      "execution_count": 32,
      "outputs": [
        {
          "output_type": "stream",
          "text": [
            "int8\n"
          ],
          "name": "stdout"
        }
      ]
    },
    {
      "cell_type": "code",
      "metadata": {
        "id": "IfpA2_UMSOfY",
        "colab_type": "code",
        "colab": {}
      },
      "source": [
        ""
      ],
      "execution_count": 0,
      "outputs": []
    },
    {
      "cell_type": "markdown",
      "metadata": {
        "id": "eo1IauwFULka",
        "colab_type": "text"
      },
      "source": [
        "# 1.3.Tworzenie_Tablic"
      ]
    },
    {
      "cell_type": "code",
      "metadata": {
        "id": "EGBwDNITURRT",
        "colab_type": "code",
        "colab": {
          "base_uri": "https://localhost:8080/",
          "height": 0
        },
        "outputId": "3f75e592-b604-45f5-d13c-39e3c10f482a"
      },
      "source": [
        "# funkncje pomocne w procesie tworzenia tablic\n",
        "\n",
        "# tablica składająca się z samych zer\n",
        "np.zeros(shape =(3, 4, 2) )"
      ],
      "execution_count": 33,
      "outputs": [
        {
          "output_type": "execute_result",
          "data": {
            "text/plain": [
              "array([[[0., 0.],\n",
              "        [0., 0.],\n",
              "        [0., 0.],\n",
              "        [0., 0.]],\n",
              "\n",
              "       [[0., 0.],\n",
              "        [0., 0.],\n",
              "        [0., 0.],\n",
              "        [0., 0.]],\n",
              "\n",
              "       [[0., 0.],\n",
              "        [0., 0.],\n",
              "        [0., 0.],\n",
              "        [0., 0.]]])"
            ]
          },
          "metadata": {
            "tags": []
          },
          "execution_count": 33
        }
      ]
    },
    {
      "cell_type": "code",
      "metadata": {
        "id": "kOIQFFqCW-3E",
        "colab_type": "code",
        "colab": {
          "base_uri": "https://localhost:8080/",
          "height": 0
        },
        "outputId": "2dabe208-183a-4fa8-ea0c-a46d9b636279"
      },
      "source": [
        "# tablica składajaca się z samych jedynek\n",
        "np.ones(shape = (5,5))"
      ],
      "execution_count": 34,
      "outputs": [
        {
          "output_type": "execute_result",
          "data": {
            "text/plain": [
              "array([[1., 1., 1., 1., 1.],\n",
              "       [1., 1., 1., 1., 1.],\n",
              "       [1., 1., 1., 1., 1.],\n",
              "       [1., 1., 1., 1., 1.],\n",
              "       [1., 1., 1., 1., 1.]])"
            ]
          },
          "metadata": {
            "tags": []
          },
          "execution_count": 34
        }
      ]
    },
    {
      "cell_type": "code",
      "metadata": {
        "id": "5EfKYFcvXVhJ",
        "colab_type": "code",
        "colab": {
          "base_uri": "https://localhost:8080/",
          "height": 0
        },
        "outputId": "a9ecb01f-2baa-4522-ad1f-5323c3fb095c"
      },
      "source": [
        "# tworzenie tablicy z dowolnymi warotosciami\n",
        "np.full(shape = (3, 3), fill_value = 4, dtype = 'int')"
      ],
      "execution_count": 36,
      "outputs": [
        {
          "output_type": "execute_result",
          "data": {
            "text/plain": [
              "array([[4, 4, 4],\n",
              "       [4, 4, 4],\n",
              "       [4, 4, 4]])"
            ]
          },
          "metadata": {
            "tags": []
          },
          "execution_count": 36
        }
      ]
    },
    {
      "cell_type": "code",
      "metadata": {
        "id": "LcQHVUUsXv-d",
        "colab_type": "code",
        "colab": {
          "base_uri": "https://localhost:8080/",
          "height": 0
        },
        "outputId": "0c859a7b-99cb-4a37-93d5-1d86947d5c61"
      },
      "source": [
        "# analogicznie do range tylko w bibliotece numpy\n",
        "print(np.arange(10))\n",
        "# można ustawieć by odliczanie zaczynalo sie od innej liczby za pomoca start (stop)\n",
        "# można też wybrac dany krok za pomoca step\n",
        "print(np.arange(start=10, stop = 100, step = 10))\n",
        "# w drugą stronę\n",
        "print(np.arange(start = 100, stop = 50, step = -10))\n",
        "# mozna tez stosowac do float"
      ],
      "execution_count": 41,
      "outputs": [
        {
          "output_type": "stream",
          "text": [
            "[0 1 2 3 4 5 6 7 8 9]\n",
            "[10 20 30 40 50 60 70 80 90]\n",
            "[100  90  80  70  60]\n"
          ],
          "name": "stdout"
        }
      ]
    },
    {
      "cell_type": "code",
      "metadata": {
        "id": "vMBJzLXmY4vG",
        "colab_type": "code",
        "colab": {
          "base_uri": "https://localhost:8080/",
          "height": 0
        },
        "outputId": "f37d5041-b623-486c-a5af-07fd88166c6c"
      },
      "source": [
        "# funkcja linspace pozwala wpisac do tablicy daną ilość równo rozłożonych liczb z danego przedziału\n",
        "print(np.linspace(start= 3, stop= 8, num= 10))"
      ],
      "execution_count": 42,
      "outputs": [
        {
          "output_type": "stream",
          "text": [
            "[3.         3.55555556 4.11111111 4.66666667 5.22222222 5.77777778\n",
            " 6.33333333 6.88888889 7.44444444 8.        ]\n"
          ],
          "name": "stdout"
        }
      ]
    },
    {
      "cell_type": "code",
      "metadata": {
        "id": "m48KyTBDbI_a",
        "colab_type": "code",
        "colab": {
          "base_uri": "https://localhost:8080/",
          "height": 0
        },
        "outputId": "5b23c837-66d3-4a01-f01c-bd6d9209fbff"
      },
      "source": [
        "# zmiana kształtu danych\n",
        "A = np.arange(15)\n",
        "print(A)\n",
        "A_2 = A.reshape((3,5))\n",
        "print(A_2)\n",
        "# jeśli chcemy, żeby python sam dobral odpowiednią liczbę kolumn/wierszy; wpisujemy -1\n",
        "A_3 = A.reshape((3,-1))\n",
        "print(A_3)\n",
        "B = np.arange(16)\n",
        "B_2 = B.reshape((2, 2, -1))\n",
        "print('---------------')\n",
        "print(B_2)\n",
        "\n"
      ],
      "execution_count": 50,
      "outputs": [
        {
          "output_type": "stream",
          "text": [
            "[ 0  1  2  3  4  5  6  7  8  9 10 11 12 13 14]\n",
            "[[ 0  1  2  3  4]\n",
            " [ 5  6  7  8  9]\n",
            " [10 11 12 13 14]]\n",
            "[[ 0  1  2  3  4]\n",
            " [ 5  6  7  8  9]\n",
            " [10 11 12 13 14]]\n",
            "---------------\n",
            "[[[ 0  1  2  3]\n",
            "  [ 4  5  6  7]]\n",
            "\n",
            " [[ 8  9 10 11]\n",
            "  [12 13 14 15]]]\n"
          ],
          "name": "stdout"
        }
      ]
    },
    {
      "cell_type": "code",
      "metadata": {
        "id": "Esz9uVaPglB3",
        "colab_type": "code",
        "colab": {}
      },
      "source": [
        ""
      ],
      "execution_count": 0,
      "outputs": []
    },
    {
      "cell_type": "markdown",
      "metadata": {
        "id": "sTAP1t1Lnuiz",
        "colab_type": "text"
      },
      "source": [
        "# 1.4.Podstawowe_operacje_na_tablicach"
      ]
    },
    {
      "cell_type": "code",
      "metadata": {
        "id": "8z3TuGvzn4Ev",
        "colab_type": "code",
        "colab": {
          "base_uri": "https://localhost:8080/",
          "height": 0
        },
        "outputId": "5b5d5d66-32fe-44e9-d05c-d5d2b0c7553e"
      },
      "source": [
        "AN = np.array([8, 6, 5, 1])\n",
        "AD = np.array([7, 2, 2 ,3])\n",
        "print(AN, AD)\n",
        "print(AN + AD)  # można też: np.add(AN, AD)\n",
        "print(AN - AD) # można też: np.subtract(AN, AD)\n",
        "print(AN * AD)  # można też: np.multiply(AN, AD)\n",
        "print(AN / AD)  # można też: np.divide(AN, AD)\n",
        "print(AD + 3)\n",
        "print(AD * 2)\n",
        "print('-------------')\n"
      ],
      "execution_count": 9,
      "outputs": [
        {
          "output_type": "stream",
          "text": [
            "[8 6 5 1] [7 2 2 3]\n",
            "[15  8  7  4]\n",
            "[ 1  4  3 -2]\n",
            "[56 12 10  3]\n",
            "[1.14285714 3.         2.5        0.33333333]\n",
            "[10  5  5  6]\n",
            "[14  4  4  6]\n"
          ],
          "name": "stdout"
        }
      ]
    },
    {
      "cell_type": "code",
      "metadata": {
        "id": "znzl1rxmMMjG",
        "colab_type": "code",
        "colab": {
          "base_uri": "https://localhost:8080/",
          "height": 0
        },
        "outputId": "36e9f946-bf05-4ba0-d536-ce628427cdc9"
      },
      "source": [
        "\n",
        "X = np.array([[2, 5], [9, 0]])\n",
        "Y = np.array([[1, 3], [5, 3]])\n",
        "print(X, '\\n')\n",
        "print(Y)\n",
        "print('-----------')\n",
        "# zwykłe mnożenie\n",
        "print(X * Y)\n",
        "# mnożenie macierzowe\n",
        "print(np.dot(X, Y)) # można też wpisać \n",
        "print(X.dot(Y)) # lub\n",
        "print(X @ Y)"
      ],
      "execution_count": 19,
      "outputs": [
        {
          "output_type": "stream",
          "text": [
            "[[2 5]\n",
            " [9 0]] \n",
            "\n",
            "[[1 3]\n",
            " [5 3]]\n",
            "-----------\n",
            "[[ 2 15]\n",
            " [45  0]]\n",
            "[[27 21]\n",
            " [ 9 27]]\n",
            "[[27 21]\n",
            " [ 9 27]]\n",
            "[[27 21]\n",
            " [ 9 27]]\n"
          ],
          "name": "stdout"
        }
      ]
    },
    {
      "cell_type": "code",
      "metadata": {
        "id": "CK39RwZwVjvs",
        "colab_type": "code",
        "colab": {}
      },
      "source": [
        ""
      ],
      "execution_count": 0,
      "outputs": []
    },
    {
      "cell_type": "markdown",
      "metadata": {
        "id": "-GQfiAm6h8ff",
        "colab_type": "text"
      },
      "source": [
        "# 1.5.Generowanie liczb pseudolosowych"
      ]
    },
    {
      "cell_type": "code",
      "metadata": {
        "id": "RJNHfrF3iJsl",
        "colab_type": "code",
        "colab": {
          "base_uri": "https://localhost:8080/",
          "height": 312
        },
        "outputId": "9ebbd947-4c4e-4aa1-d1fe-7ec00e73ec5c"
      },
      "source": [
        "# ziarno liczb losowych (zawsze wychodzi ta sama losowa liczba)\n",
        "np.random.seed(0)\n",
        "# losowanie liczb z rozkładu normalnego\n",
        "print(np.random.randn(10)) # losuje daną ilość liczb pseudolosowych o średniej 0 i odchyleniu standardowym 1\n",
        "print(np.random.randn(10, 5)) # drugi parametr sprawia, że tworzona jest tablica\n",
        "print(np.random.rand()) # rand losuje liczbę losową z przedziału 0 - 1 (jedyna jest wylaczona)\n",
        "# drugi parametr też daje tablice\n",
        "print(np.random.randint(10)) #randint zwóci liczbę całkowita do 10 (10 wylaczone)\n",
        "print(np.random.randint(low = -10, high = 5, size = 3)) #mozna podac tez parametr startowy i koncowy, size ilosc liczb\n",
        "print(np.random.choice([5, 10, 15, 20])) # wybiera jedną liczbę z przedziału, # trzeba podac liste\n",
        "print(np.random.choice(['Ania', 'Adas'])) # mozna podac nazwy"
      ],
      "execution_count": 15,
      "outputs": [
        {
          "output_type": "stream",
          "text": [
            "[ 1.76405235  0.40015721  0.97873798  2.2408932   1.86755799 -0.97727788\n",
            "  0.95008842 -0.15135721 -0.10321885  0.4105985 ]\n",
            "[[ 0.14404357  1.45427351  0.76103773  0.12167502  0.44386323]\n",
            " [ 0.33367433  1.49407907 -0.20515826  0.3130677  -0.85409574]\n",
            " [-2.55298982  0.6536186   0.8644362  -0.74216502  2.26975462]\n",
            " [-1.45436567  0.04575852 -0.18718385  1.53277921  1.46935877]\n",
            " [ 0.15494743  0.37816252 -0.88778575 -1.98079647 -0.34791215]\n",
            " [ 0.15634897  1.23029068  1.20237985 -0.38732682 -0.30230275]\n",
            " [-1.04855297 -1.42001794 -1.70627019  1.9507754  -0.50965218]\n",
            " [-0.4380743  -1.25279536  0.77749036 -1.61389785 -0.21274028]\n",
            " [-0.89546656  0.3869025  -0.51080514 -1.18063218 -0.02818223]\n",
            " [ 0.42833187  0.06651722  0.3024719  -0.63432209 -0.36274117]]\n",
            "0.29614019752214493\n",
            "2\n",
            "[-1 -8  4]\n",
            "20\n",
            "Ania\n"
          ],
          "name": "stdout"
        }
      ]
    },
    {
      "cell_type": "code",
      "metadata": {
        "id": "Z4MkFKnkmJqE",
        "colab_type": "code",
        "colab": {
          "base_uri": "https://localhost:8080/",
          "height": 52
        },
        "outputId": "6243c65d-232e-446b-fd59-f51122ac0e8f"
      },
      "source": [
        "# gdy chcemu przetasowac istniejace dane\n",
        "data = np.arange(5)\n",
        "print(data)\n",
        "np.random.shuffle(data) # UWAGA - wbrew intuicji funkcja ta zmienia dane bez przypisywania !!\n",
        "print(data)"
      ],
      "execution_count": 14,
      "outputs": [
        {
          "output_type": "stream",
          "text": [
            "[0 1 2 3 4]\n",
            "[1 0 2 4 3]\n"
          ],
          "name": "stdout"
        }
      ]
    },
    {
      "cell_type": "code",
      "metadata": {
        "id": "L41dQSpFo55s",
        "colab_type": "code",
        "colab": {}
      },
      "source": [
        ""
      ],
      "execution_count": 0,
      "outputs": []
    },
    {
      "cell_type": "markdown",
      "metadata": {
        "id": "MaDmIhvRqsom",
        "colab_type": "text"
      },
      "source": [
        "# 1.6.Funkcje_w_bibliotece_NumPy"
      ]
    },
    {
      "cell_type": "code",
      "metadata": {
        "id": "ptUgNVnUq4xS",
        "colab_type": "code",
        "colab": {
          "base_uri": "https://localhost:8080/",
          "height": 86
        },
        "outputId": "5fc37f08-c4d1-48d4-cc18-99f9919ac2ce"
      },
      "source": [
        "print(np.exp(1)) # e do x (exponent) (e - stala Eulera)\n",
        "print(np.sqrt(9)) # pierwiastek\n",
        "print(np.all([1, 4, 0])) # funcja przechodzi po obiekcie iterowalnym i bada czy posczegolne elementy zwracaja wartosc logiczna false czy true\n",
        "# jesli choc jedna Fasle zworci false, jesli wszystkie True zwroci True\n",
        "print(np.any([0, 0, 1])) # działa na odwrót do all"
      ],
      "execution_count": 18,
      "outputs": [
        {
          "output_type": "stream",
          "text": [
            "2.718281828459045\n",
            "3.0\n",
            "False\n",
            "True\n"
          ],
          "name": "stdout"
        }
      ]
    },
    {
      "cell_type": "code",
      "metadata": {
        "id": "AmcenEB1sZW7",
        "colab_type": "code",
        "colab": {
          "base_uri": "https://localhost:8080/",
          "height": 34
        },
        "outputId": "8030156e-f76d-4e13-a6c8-4cd5b8895be7"
      },
      "source": [
        "A = np.random.rand(5)\n",
        "print(A)"
      ],
      "execution_count": 19,
      "outputs": [
        {
          "output_type": "stream",
          "text": [
            "[0.0641475  0.69247212 0.56660145 0.26538949 0.52324805]\n"
          ],
          "name": "stdout"
        }
      ]
    },
    {
      "cell_type": "code",
      "metadata": {
        "id": "0rOIc2cqtGH-",
        "colab_type": "code",
        "colab": {
          "base_uri": "https://localhost:8080/",
          "height": 173
        },
        "outputId": "30d6d395-18df-4c3e-fe78-915c9eef3dab"
      },
      "source": [
        "ar = np.argmax(A) # największy element \n",
        "print(ar) # element pierwszy 0.69...\n",
        "print(A[np.argmax(A)]) # sprytny wybór tego argumentu\n",
        "print(A[np.argmin(A)]) # najniższa wartosc\n",
        "# sortowanie roznąco\n",
        "print(np.argsort(A))\n",
        "print(np.max(A)) # zwracanie wartosci największej\n",
        "print(np.min(A)) # zwracanie wartosci najmniejszes\n",
        "print(np.mean(A)) # zwracanie wartosci sredniej\n",
        "print(np.median(A)) # zwracanie mediany\n",
        "print(np.std(A)) # zwracanie odchylenia standardowego"
      ],
      "execution_count": 29,
      "outputs": [
        {
          "output_type": "stream",
          "text": [
            "1\n",
            "0.6924721193700198\n",
            "0.06414749634878436\n",
            "[0 3 4 2 1]\n",
            "0.6924721193700198\n",
            "0.06414749634878436\n",
            "0.4223717228663049\n",
            "0.5232480534666997\n",
            "0.22667178530825793\n"
          ],
          "name": "stdout"
        }
      ]
    },
    {
      "cell_type": "code",
      "metadata": {
        "id": "OP6qs4uytOSP",
        "colab_type": "code",
        "colab": {}
      },
      "source": [
        ""
      ],
      "execution_count": 0,
      "outputs": []
    },
    {
      "cell_type": "markdown",
      "metadata": {
        "id": "9piT4bNYxzTZ",
        "colab_type": "text"
      },
      "source": [
        "# 1.7.Indeksowanie_Wycinanie"
      ]
    },
    {
      "cell_type": "code",
      "metadata": {
        "id": "3BV_Kamgx81D",
        "colab_type": "code",
        "colab": {
          "base_uri": "https://localhost:8080/",
          "height": 52
        },
        "outputId": "5c9e17c0-8533-4fbc-f48f-a383afc3e60e"
      },
      "source": [
        "C = np.arange(20)\n",
        "print(C)\n",
        "np.random.shuffle(C)\n",
        "print(C)"
      ],
      "execution_count": 62,
      "outputs": [
        {
          "output_type": "stream",
          "text": [
            "[ 0  1  2  3  4  5  6  7  8  9 10 11 12 13 14 15 16 17 18 19]\n",
            "[ 0 17  1 16  6 12 14 10  4 13 18  7  9  3 19  2  8 15  5 11]\n"
          ],
          "name": "stdout"
        }
      ]
    },
    {
      "cell_type": "code",
      "metadata": {
        "id": "E4VV3-V3yL-M",
        "colab_type": "code",
        "colab": {
          "base_uri": "https://localhost:8080/",
          "height": 121
        },
        "outputId": "4c080466-f4a3-413c-dca0-1b684a565197"
      },
      "source": [
        "# wycinanie\n",
        "print(C[2]) # tylko element trzeci\n",
        "print(C[2:]) # od trzeciego elementu do konca\n",
        "print(C[:2]) # tylko do trzeciego elementu\n",
        "print(C[2:6]) # od trzeciego elementu do siódmego\n",
        "print(C[[2, 5, 6, 7]]) # konkretne elementy musi byc lista indeksow\n",
        "print(C[-1])  # ostatnia wartosc"
      ],
      "execution_count": 63,
      "outputs": [
        {
          "output_type": "stream",
          "text": [
            "1\n",
            "[ 1 16  6 12 14 10  4 13 18  7  9  3 19  2  8 15  5 11]\n",
            "[ 0 17]\n",
            "[ 1 16  6 12]\n",
            "[ 1 12 14 10]\n",
            "11\n"
          ],
          "name": "stdout"
        }
      ]
    },
    {
      "cell_type": "code",
      "metadata": {
        "id": "yty70jgRyzNw",
        "colab_type": "code",
        "colab": {
          "base_uri": "https://localhost:8080/",
          "height": 86
        },
        "outputId": "28945655-e56e-4598-b882-91327b0536bc"
      },
      "source": [
        "C = C.reshape(4, 5)\n",
        "print(C)"
      ],
      "execution_count": 64,
      "outputs": [
        {
          "output_type": "stream",
          "text": [
            "[[ 0 17  1 16  6]\n",
            " [12 14 10  4 13]\n",
            " [18  7  9  3 19]\n",
            " [ 2  8 15  5 11]]\n"
          ],
          "name": "stdout"
        }
      ]
    },
    {
      "cell_type": "code",
      "metadata": {
        "id": "1bX0r_Xm3yXX",
        "colab_type": "code",
        "colab": {
          "base_uri": "https://localhost:8080/",
          "height": 104
        },
        "outputId": "4e66a076-05b7-4ca4-9f24-bc6466725b57"
      },
      "source": [
        "# wycinanie z tablicy\n",
        "print(C[0]) # wycięcie wiersza\n",
        "print(C[:,1]) # wycięcie kolumny\n",
        "# wycinanie konkretnego elementu\n",
        "print(C[0,4])\n",
        "# wycinanie fragmentu tablicy\n",
        "print(C[1:3,1:4]) # print(C[indesky wierszów, indeksy kolumn]) "
      ],
      "execution_count": 65,
      "outputs": [
        {
          "output_type": "stream",
          "text": [
            "[ 0 17  1 16  6]\n",
            "[17 14  7  8]\n",
            "6\n",
            "[[14 10  4]\n",
            " [ 7  9  3]]\n"
          ],
          "name": "stdout"
        }
      ]
    },
    {
      "cell_type": "code",
      "metadata": {
        "id": "QXNynpRc6EMH",
        "colab_type": "code",
        "colab": {
          "base_uri": "https://localhost:8080/",
          "height": 156
        },
        "outputId": "28fea3d8-b6a1-4757-ef5e-69f060c35279"
      },
      "source": [
        "# przypisanie nowego elementu w danym miejscu tablicy\n",
        "print(C)\n",
        "C[1, 1] = 111\n",
        "print(C)"
      ],
      "execution_count": 66,
      "outputs": [
        {
          "output_type": "stream",
          "text": [
            "[[ 0 17  1 16  6]\n",
            " [12 14 10  4 13]\n",
            " [18  7  9  3 19]\n",
            " [ 2  8 15  5 11]]\n",
            "[[  0  17   1  16   6]\n",
            " [ 12 111  10   4  13]\n",
            " [ 18   7   9   3  19]\n",
            " [  2   8  15   5  11]]\n"
          ],
          "name": "stdout"
        }
      ]
    },
    {
      "cell_type": "code",
      "metadata": {
        "id": "nofKXHjP-HSf",
        "colab_type": "code",
        "colab": {}
      },
      "source": [
        ""
      ],
      "execution_count": 0,
      "outputs": []
    },
    {
      "cell_type": "markdown",
      "metadata": {
        "id": "Ne7Ro4D6MMGB",
        "colab_type": "text"
      },
      "source": [
        "# 1.8.Iteracja_po_tablicah"
      ]
    },
    {
      "cell_type": "code",
      "metadata": {
        "id": "Nm2BVVNbMmL8",
        "colab_type": "code",
        "colab": {
          "base_uri": "https://localhost:8080/",
          "height": 121
        },
        "outputId": "6e6df5cd-191a-4b40-dd4b-0a3c348f577b"
      },
      "source": [
        "D = np.arange(20)\n",
        "np.random.shuffle(D)\n",
        "D = D.reshape(5,4)\n",
        "print(D)\n",
        "print(D.dtype)"
      ],
      "execution_count": 87,
      "outputs": [
        {
          "output_type": "stream",
          "text": [
            "[[ 1 13 15  9]\n",
            " [ 2  6 17 18]\n",
            " [11 12  0  5]\n",
            " [ 8  7 16 19]\n",
            " [ 3  4 14 10]]\n",
            "int64\n"
          ],
          "name": "stdout"
        }
      ]
    },
    {
      "cell_type": "code",
      "metadata": {
        "id": "HrihmcKnN__q",
        "colab_type": "code",
        "colab": {
          "base_uri": "https://localhost:8080/",
          "height": 537
        },
        "outputId": "1bbf6a8b-168d-4a94-cd03-d46ee1f533e2"
      },
      "source": [
        "# iteracja po wierszach\n",
        "for row in D:\n",
        "  print(row)\n",
        "# tylko 3 kolumny\n",
        "for row in D:\n",
        "  print(row[:3])\n",
        "# iteracja po elementach (zamiast item może być wpisane cokolwiek)\n",
        "# trzeba wypłaszczyć tablice używająć funkcji flat\n",
        "for item in D.flat:\n",
        "  print(item)\n"
      ],
      "execution_count": 89,
      "outputs": [
        {
          "output_type": "stream",
          "text": [
            "[ 1 13 15  9]\n",
            "[ 2  6 17 18]\n",
            "[11 12  0  5]\n",
            "[ 8  7 16 19]\n",
            "[ 3  4 14 10]\n",
            "[ 1 13 15]\n",
            "[ 2  6 17]\n",
            "[11 12  0]\n",
            "[ 8  7 16]\n",
            "[ 3  4 14]\n",
            "1\n",
            "13\n",
            "15\n",
            "9\n",
            "2\n",
            "6\n",
            "17\n",
            "18\n",
            "11\n",
            "12\n",
            "0\n",
            "5\n",
            "8\n",
            "7\n",
            "16\n",
            "19\n",
            "3\n",
            "4\n",
            "14\n",
            "10\n"
          ],
          "name": "stdout"
        }
      ]
    },
    {
      "cell_type": "code",
      "metadata": {
        "id": "95qflqYgPMU2",
        "colab_type": "code",
        "colab": {
          "base_uri": "https://localhost:8080/",
          "height": 121
        },
        "outputId": "c17b1d80-cf22-49e3-ec10-792ecdebddf8"
      },
      "source": [
        "# zmiana rozmiaru tablicy\n",
        "print(D.shape)\n",
        "print(D)"
      ],
      "execution_count": 93,
      "outputs": [
        {
          "output_type": "stream",
          "text": [
            "(5, 4)\n",
            "[[ 1 13 15  9]\n",
            " [ 2  6 17 18]\n",
            " [11 12  0  5]\n",
            " [ 8  7 16 19]\n",
            " [ 3  4 14 10]]\n"
          ],
          "name": "stdout"
        }
      ]
    },
    {
      "cell_type": "code",
      "metadata": {
        "id": "lkU6_03gQmdK",
        "colab_type": "code",
        "colab": {
          "base_uri": "https://localhost:8080/",
          "height": 138
        },
        "outputId": "ec7efa76-0d00-4b5b-e38f-ee7099d16b66"
      },
      "source": [
        "D.reshape(10, 2)\n",
        "print(D)\n",
        "# metodą ravel można łątwo wrócić do ,,płaskiej\" postaci naszej tablicy\n",
        "D.ravel()"
      ],
      "execution_count": 103,
      "outputs": [
        {
          "output_type": "stream",
          "text": [
            "[[ 1 13 15  9]\n",
            " [ 2  6 17 18]\n",
            " [11 12  0  5]\n",
            " [ 8  7 16 19]\n",
            " [ 3  4 14 10]]\n"
          ],
          "name": "stdout"
        },
        {
          "output_type": "execute_result",
          "data": {
            "text/plain": [
              "array([ 1, 13, 15,  9,  2,  6, 17, 18, 11, 12,  0,  5,  8,  7, 16, 19,  3,\n",
              "        4, 14, 10])"
            ]
          },
          "metadata": {
            "tags": []
          },
          "execution_count": 103
        }
      ]
    },
    {
      "cell_type": "code",
      "metadata": {
        "id": "RQxFXPkoVzS2",
        "colab_type": "code",
        "colab": {
          "base_uri": "https://localhost:8080/",
          "height": 86
        },
        "outputId": "fe4e43ac-36f0-4354-d5aa-4987939c03e2"
      },
      "source": [
        "# transponowanie tablicy -> zmiana wierszów na kolmny i kolumn na wiersze\n",
        "print(D.T)"
      ],
      "execution_count": 104,
      "outputs": [
        {
          "output_type": "stream",
          "text": [
            "[[ 1  2 11  8  3]\n",
            " [13  6 12  7  4]\n",
            " [15 17  0 16 14]\n",
            " [ 9 18  5 19 10]]\n"
          ],
          "name": "stdout"
        }
      ]
    },
    {
      "cell_type": "code",
      "metadata": {
        "id": "uIgfuBbZXAiZ",
        "colab_type": "code",
        "colab": {
          "base_uri": "https://localhost:8080/",
          "height": 641
        },
        "outputId": "3b0a0da0-f3fb-42ab-ff9d-7f8e07e958b9"
      },
      "source": [
        "# maski logiczne\n",
        "F = np.arange(start = -10, stop = 10, step = 0.5)\n",
        "print(F)\n",
        "F = F.reshape(10, -1)\n",
        "print(F)\n",
        "# maska logiczna - gdzie są wartosci ujemne a gdzie dodatnie\n",
        "print(F > 0)\n",
        "# wycięcie wartosci dodatnich\n",
        "print(F[F >0])\n",
        "print(F)"
      ],
      "execution_count": 112,
      "outputs": [
        {
          "output_type": "stream",
          "text": [
            "[-10.   -9.5  -9.   -8.5  -8.   -7.5  -7.   -6.5  -6.   -5.5  -5.   -4.5\n",
            "  -4.   -3.5  -3.   -2.5  -2.   -1.5  -1.   -0.5   0.    0.5   1.    1.5\n",
            "   2.    2.5   3.    3.5   4.    4.5   5.    5.5   6.    6.5   7.    7.5\n",
            "   8.    8.5   9.    9.5]\n",
            "[[-10.   -9.5  -9.   -8.5]\n",
            " [ -8.   -7.5  -7.   -6.5]\n",
            " [ -6.   -5.5  -5.   -4.5]\n",
            " [ -4.   -3.5  -3.   -2.5]\n",
            " [ -2.   -1.5  -1.   -0.5]\n",
            " [  0.    0.5   1.    1.5]\n",
            " [  2.    2.5   3.    3.5]\n",
            " [  4.    4.5   5.    5.5]\n",
            " [  6.    6.5   7.    7.5]\n",
            " [  8.    8.5   9.    9.5]]\n",
            "[[False False False False]\n",
            " [False False False False]\n",
            " [False False False False]\n",
            " [False False False False]\n",
            " [False False False False]\n",
            " [False  True  True  True]\n",
            " [ True  True  True  True]\n",
            " [ True  True  True  True]\n",
            " [ True  True  True  True]\n",
            " [ True  True  True  True]]\n",
            "[0.5 1.  1.5 2.  2.5 3.  3.5 4.  4.5 5.  5.5 6.  6.5 7.  7.5 8.  8.5 9.\n",
            " 9.5]\n",
            "[[-10.   -9.5  -9.   -8.5]\n",
            " [ -8.   -7.5  -7.   -6.5]\n",
            " [ -6.   -5.5  -5.   -4.5]\n",
            " [ -4.   -3.5  -3.   -2.5]\n",
            " [ -2.   -1.5  -1.   -0.5]\n",
            " [  0.    0.5   1.    1.5]\n",
            " [  2.    2.5   3.    3.5]\n",
            " [  4.    4.5   5.    5.5]\n",
            " [  6.    6.5   7.    7.5]\n",
            " [  8.    8.5   9.    9.5]]\n"
          ],
          "name": "stdout"
        }
      ]
    },
    {
      "cell_type": "code",
      "metadata": {
        "id": "elpZKG_dXbcd",
        "colab_type": "code",
        "colab": {
          "base_uri": "https://localhost:8080/",
          "height": 416
        },
        "outputId": "1f93754e-2df8-498e-9be3-51c4a646b7dd"
      },
      "source": [
        "# łączenie dwóch warunków\n",
        "# aby podać warunki and należy użyć funcji bitwise\n",
        "# funkcja ta zwraca nam maskę\n",
        "print(np.bitwise_and(F > -1, F < 1))\n",
        "print(F[np.bitwise_and(F > -1, F < 1)])\n",
        "print(np.bitwise_or(F > 5, F < -5))\n",
        "print(F[np.bitwise_or(F > 5, F < -5)])"
      ],
      "execution_count": 115,
      "outputs": [
        {
          "output_type": "stream",
          "text": [
            "[[False False False False]\n",
            " [False False False False]\n",
            " [False False False False]\n",
            " [False False False False]\n",
            " [False False False  True]\n",
            " [ True  True False False]\n",
            " [False False False False]\n",
            " [False False False False]\n",
            " [False False False False]\n",
            " [False False False False]]\n",
            "[-0.5  0.   0.5]\n",
            "[[ True  True  True  True]\n",
            " [ True  True  True  True]\n",
            " [ True  True False False]\n",
            " [False False False False]\n",
            " [False False False False]\n",
            " [False False False False]\n",
            " [False False False False]\n",
            " [False False False  True]\n",
            " [ True  True  True  True]\n",
            " [ True  True  True  True]]\n",
            "[-10.   -9.5  -9.   -8.5  -8.   -7.5  -7.   -6.5  -6.   -5.5   5.5   6.\n",
            "   6.5   7.    7.5   8.    8.5   9.    9.5]\n"
          ],
          "name": "stdout"
        }
      ]
    },
    {
      "cell_type": "code",
      "metadata": {
        "id": "I_y85v82fBBf",
        "colab_type": "code",
        "colab": {}
      },
      "source": [
        ""
      ],
      "execution_count": 0,
      "outputs": []
    }
  ]
}